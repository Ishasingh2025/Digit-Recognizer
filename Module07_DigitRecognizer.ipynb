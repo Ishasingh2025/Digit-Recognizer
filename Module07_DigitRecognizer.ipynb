{
 "cells": [
  {
   "cell_type": "markdown",
   "metadata": {},
   "source": [
    "# Module 07 Digit Recognizer"
   ]
  },
  {
   "cell_type": "markdown",
   "metadata": {},
   "source": [
    "Isha Singh\n",
    "\n",
    "\n",
    "Professor Irene Tsapara\n",
    "\n",
    "\n",
    "MSDS 422 Practical Machine Learning \n",
    "\n",
    "\n",
    "1 March 2025"
   ]
  },
  {
   "cell_type": "markdown",
   "metadata": {},
   "source": [
    "### PART 01 Introduction"
   ]
  },
  {
   "cell_type": "markdown",
   "metadata": {},
   "source": [
    "##### The following research is based on the Kaggle Competition: Digit Recognizer. The main goal of this study is to classify handwritten digits (0-9) using neural networks. Different model factors will be evaluated by modifying hyperparameters such as the number of layers, neurons per layer, activation functions, optimizers, and batch sizes. By experimenting with different types of hyperparameters, the model will be created as a stronger output for classifying and recognizing digits. The analysis will also reflect on the following factors: training time, validation accuracy, loss curves, confusion matrices, and ROC curves to compare model performances. Additionally, another main factor in this research will include a benchmark experiment that consists of a 2×2 crossed design to evaluate how the different architectural choices impact classification accuracy. The results will provide insights into the accuracy and precision of the different types of neural networks, and from that, it will be recognized as the most optimal model for handwritten digit recognition."
   ]
  },
  {
   "cell_type": "markdown",
   "metadata": {},
   "source": [
    "### PART 02 Data load / Libraries load"
   ]
  },
  {
   "cell_type": "markdown",
   "metadata": {},
   "source": [
    "Libraries load"
   ]
  },
  {
   "cell_type": "code",
   "execution_count": null,
   "metadata": {},
   "outputs": [],
   "source": [
    "import warnings\n",
    "warnings.filterwarnings(\"ignore\")"
   ]
  },
  {
   "cell_type": "code",
   "execution_count": 1,
   "metadata": {},
   "outputs": [
    {
     "name": "stdout",
     "output_type": "stream",
     "text": [
      "[PhysicalDevice(name='/physical_device:GPU:0', device_type='GPU')]\n"
     ]
    }
   ],
   "source": [
    "import tensorflow as tf\n",
    "print(tf.config.list_physical_devices('GPU'))"
   ]
  },
  {
   "cell_type": "code",
   "execution_count": 2,
   "metadata": {},
   "outputs": [],
   "source": [
    "import time"
   ]
  },
  {
   "cell_type": "code",
   "execution_count": 3,
   "metadata": {},
   "outputs": [],
   "source": [
    "import numpy as np"
   ]
  },
  {
   "cell_type": "code",
   "execution_count": 4,
   "metadata": {},
   "outputs": [],
   "source": [
    "import pandas as pd"
   ]
  },
  {
   "cell_type": "code",
   "execution_count": 5,
   "metadata": {},
   "outputs": [],
   "source": [
    "import matplotlib.pyplot as plt"
   ]
  },
  {
   "cell_type": "code",
   "execution_count": 6,
   "metadata": {},
   "outputs": [],
   "source": [
    "\n",
    "import seaborn as sns"
   ]
  },
  {
   "cell_type": "code",
   "execution_count": 7,
   "metadata": {},
   "outputs": [],
   "source": [
    "from tensorflow.keras.preprocessing.image import ImageDataGenerator"
   ]
  },
  {
   "cell_type": "code",
   "execution_count": 8,
   "metadata": {},
   "outputs": [],
   "source": [
    "from sklearn.model_selection import train_test_split"
   ]
  },
  {
   "cell_type": "code",
   "execution_count": 9,
   "metadata": {},
   "outputs": [],
   "source": [
    "from tensorflow.keras.utils import to_categorical"
   ]
  },
  {
   "cell_type": "code",
   "execution_count": 10,
   "metadata": {},
   "outputs": [],
   "source": [
    "from sklearn.metrics import accuracy_score, confusion_matrix, classification_report, roc_curve, auc\n"
   ]
  },
  {
   "cell_type": "code",
   "execution_count": 11,
   "metadata": {},
   "outputs": [],
   "source": [
    "from sklearn.preprocessing import MinMaxScaler"
   ]
  },
  {
   "cell_type": "code",
   "execution_count": 12,
   "metadata": {},
   "outputs": [],
   "source": [
    "from tensorflow.keras.models import Sequential"
   ]
  },
  {
   "cell_type": "code",
   "execution_count": 13,
   "metadata": {},
   "outputs": [],
   "source": [
    "from tensorflow.keras.layers import Dense, Flatten"
   ]
  },
  {
   "cell_type": "code",
   "execution_count": 14,
   "metadata": {},
   "outputs": [],
   "source": [
    "from tensorflow.keras.optimizers import SGD"
   ]
  },
  {
   "cell_type": "code",
   "execution_count": 15,
   "metadata": {},
   "outputs": [],
   "source": [
    "from tensorflow.keras.optimizers import Adam"
   ]
  },
  {
   "cell_type": "markdown",
   "metadata": {},
   "source": [
    "Data load "
   ]
  },
  {
   "cell_type": "code",
   "execution_count": 16,
   "metadata": {},
   "outputs": [],
   "source": [
    "train_digit_recognizer_dataframe = pd.read_csv(\"/Users/isingh/Desktop/digit-recognizer/train.csv\")"
   ]
  },
  {
   "cell_type": "code",
   "execution_count": 122,
   "metadata": {},
   "outputs": [],
   "source": [
    "test_digit_recognizer_dataframe = pd.read_csv(\"/Users/isingh/Desktop/digit-recognizer/test.csv\")"
   ]
  },
  {
   "cell_type": "markdown",
   "metadata": {},
   "source": [
    "### PART 03 Data Presentation"
   ]
  },
  {
   "cell_type": "markdown",
   "metadata": {},
   "source": [
    "##### The dataset used has 42,000 training images and 28,000 test images, where each specific image is 28 x 28 pixels in grayscale with values that range from 0 to 255. The value 0 represents white, and 255 represents black. The training set includes a label column that indicates the digits 0-9; however, the test dataset incorporates only test set image data. Some of the observations that were noticed during the procedure were that no missing values were found within the dataset, each of the digits from 0-9 is explicitly there, and there were various different samples of handwriting styles."
   ]
  },
  {
   "cell_type": "code",
   "execution_count": 18,
   "metadata": {},
   "outputs": [
    {
     "name": "stdout",
     "output_type": "stream",
     "text": [
      "Training Data Shape: (42000, 785)\n",
      "Test Data Shape: (42000, 785)\n"
     ]
    }
   ],
   "source": [
    "print(\"Training Data Shape:\", train_digit_recognizer_dataframe.shape)\n",
    "print(\"Test Data Shape:\", train_digit_recognizer_dataframe.shape)"
   ]
  },
  {
   "cell_type": "code",
   "execution_count": 19,
   "metadata": {},
   "outputs": [
    {
     "data": {
      "text/html": [
       "<div>\n",
       "<style scoped>\n",
       "    .dataframe tbody tr th:only-of-type {\n",
       "        vertical-align: middle;\n",
       "    }\n",
       "\n",
       "    .dataframe tbody tr th {\n",
       "        vertical-align: top;\n",
       "    }\n",
       "\n",
       "    .dataframe thead th {\n",
       "        text-align: right;\n",
       "    }\n",
       "</style>\n",
       "<table border=\"1\" class=\"dataframe\">\n",
       "  <thead>\n",
       "    <tr style=\"text-align: right;\">\n",
       "      <th></th>\n",
       "      <th>label</th>\n",
       "      <th>pixel0</th>\n",
       "      <th>pixel1</th>\n",
       "      <th>pixel2</th>\n",
       "      <th>pixel3</th>\n",
       "      <th>pixel4</th>\n",
       "      <th>pixel5</th>\n",
       "      <th>pixel6</th>\n",
       "      <th>pixel7</th>\n",
       "      <th>pixel8</th>\n",
       "      <th>...</th>\n",
       "      <th>pixel774</th>\n",
       "      <th>pixel775</th>\n",
       "      <th>pixel776</th>\n",
       "      <th>pixel777</th>\n",
       "      <th>pixel778</th>\n",
       "      <th>pixel779</th>\n",
       "      <th>pixel780</th>\n",
       "      <th>pixel781</th>\n",
       "      <th>pixel782</th>\n",
       "      <th>pixel783</th>\n",
       "    </tr>\n",
       "  </thead>\n",
       "  <tbody>\n",
       "    <tr>\n",
       "      <th>0</th>\n",
       "      <td>1</td>\n",
       "      <td>0</td>\n",
       "      <td>0</td>\n",
       "      <td>0</td>\n",
       "      <td>0</td>\n",
       "      <td>0</td>\n",
       "      <td>0</td>\n",
       "      <td>0</td>\n",
       "      <td>0</td>\n",
       "      <td>0</td>\n",
       "      <td>...</td>\n",
       "      <td>0</td>\n",
       "      <td>0</td>\n",
       "      <td>0</td>\n",
       "      <td>0</td>\n",
       "      <td>0</td>\n",
       "      <td>0</td>\n",
       "      <td>0</td>\n",
       "      <td>0</td>\n",
       "      <td>0</td>\n",
       "      <td>0</td>\n",
       "    </tr>\n",
       "    <tr>\n",
       "      <th>1</th>\n",
       "      <td>0</td>\n",
       "      <td>0</td>\n",
       "      <td>0</td>\n",
       "      <td>0</td>\n",
       "      <td>0</td>\n",
       "      <td>0</td>\n",
       "      <td>0</td>\n",
       "      <td>0</td>\n",
       "      <td>0</td>\n",
       "      <td>0</td>\n",
       "      <td>...</td>\n",
       "      <td>0</td>\n",
       "      <td>0</td>\n",
       "      <td>0</td>\n",
       "      <td>0</td>\n",
       "      <td>0</td>\n",
       "      <td>0</td>\n",
       "      <td>0</td>\n",
       "      <td>0</td>\n",
       "      <td>0</td>\n",
       "      <td>0</td>\n",
       "    </tr>\n",
       "    <tr>\n",
       "      <th>2</th>\n",
       "      <td>1</td>\n",
       "      <td>0</td>\n",
       "      <td>0</td>\n",
       "      <td>0</td>\n",
       "      <td>0</td>\n",
       "      <td>0</td>\n",
       "      <td>0</td>\n",
       "      <td>0</td>\n",
       "      <td>0</td>\n",
       "      <td>0</td>\n",
       "      <td>...</td>\n",
       "      <td>0</td>\n",
       "      <td>0</td>\n",
       "      <td>0</td>\n",
       "      <td>0</td>\n",
       "      <td>0</td>\n",
       "      <td>0</td>\n",
       "      <td>0</td>\n",
       "      <td>0</td>\n",
       "      <td>0</td>\n",
       "      <td>0</td>\n",
       "    </tr>\n",
       "    <tr>\n",
       "      <th>3</th>\n",
       "      <td>4</td>\n",
       "      <td>0</td>\n",
       "      <td>0</td>\n",
       "      <td>0</td>\n",
       "      <td>0</td>\n",
       "      <td>0</td>\n",
       "      <td>0</td>\n",
       "      <td>0</td>\n",
       "      <td>0</td>\n",
       "      <td>0</td>\n",
       "      <td>...</td>\n",
       "      <td>0</td>\n",
       "      <td>0</td>\n",
       "      <td>0</td>\n",
       "      <td>0</td>\n",
       "      <td>0</td>\n",
       "      <td>0</td>\n",
       "      <td>0</td>\n",
       "      <td>0</td>\n",
       "      <td>0</td>\n",
       "      <td>0</td>\n",
       "    </tr>\n",
       "    <tr>\n",
       "      <th>4</th>\n",
       "      <td>0</td>\n",
       "      <td>0</td>\n",
       "      <td>0</td>\n",
       "      <td>0</td>\n",
       "      <td>0</td>\n",
       "      <td>0</td>\n",
       "      <td>0</td>\n",
       "      <td>0</td>\n",
       "      <td>0</td>\n",
       "      <td>0</td>\n",
       "      <td>...</td>\n",
       "      <td>0</td>\n",
       "      <td>0</td>\n",
       "      <td>0</td>\n",
       "      <td>0</td>\n",
       "      <td>0</td>\n",
       "      <td>0</td>\n",
       "      <td>0</td>\n",
       "      <td>0</td>\n",
       "      <td>0</td>\n",
       "      <td>0</td>\n",
       "    </tr>\n",
       "  </tbody>\n",
       "</table>\n",
       "<p>5 rows × 785 columns</p>\n",
       "</div>"
      ],
      "text/plain": [
       "   label  pixel0  pixel1  pixel2  pixel3  pixel4  pixel5  pixel6  pixel7  \\\n",
       "0      1       0       0       0       0       0       0       0       0   \n",
       "1      0       0       0       0       0       0       0       0       0   \n",
       "2      1       0       0       0       0       0       0       0       0   \n",
       "3      4       0       0       0       0       0       0       0       0   \n",
       "4      0       0       0       0       0       0       0       0       0   \n",
       "\n",
       "   pixel8  ...  pixel774  pixel775  pixel776  pixel777  pixel778  pixel779  \\\n",
       "0       0  ...         0         0         0         0         0         0   \n",
       "1       0  ...         0         0         0         0         0         0   \n",
       "2       0  ...         0         0         0         0         0         0   \n",
       "3       0  ...         0         0         0         0         0         0   \n",
       "4       0  ...         0         0         0         0         0         0   \n",
       "\n",
       "   pixel780  pixel781  pixel782  pixel783  \n",
       "0         0         0         0         0  \n",
       "1         0         0         0         0  \n",
       "2         0         0         0         0  \n",
       "3         0         0         0         0  \n",
       "4         0         0         0         0  \n",
       "\n",
       "[5 rows x 785 columns]"
      ]
     },
     "execution_count": 19,
     "metadata": {},
     "output_type": "execute_result"
    }
   ],
   "source": [
    "train_digit_recognizer_dataframe.head()\n"
   ]
  },
  {
   "cell_type": "code",
   "execution_count": 20,
   "metadata": {},
   "outputs": [
    {
     "name": "stdout",
     "output_type": "stream",
     "text": [
      "0\n",
      "0\n"
     ]
    }
   ],
   "source": [
    "print(train_digit_recognizer_dataframe.isnull().any().sum())\n",
    "print(train_digit_recognizer_dataframe.isnull().any().sum())"
   ]
  },
  {
   "cell_type": "markdown",
   "metadata": {},
   "source": [
    "### PART 04 EDA of DATASET"
   ]
  },
  {
   "cell_type": "code",
   "execution_count": 21,
   "metadata": {},
   "outputs": [
    {
     "data": {
      "image/png": "[encoded data removed]",
      "text/plain": [
       "<Figure size 700x500 with 1 Axes>"
      ]
     },
     "metadata": {},
     "output_type": "display_data"
    }
   ],
   "source": [
    "random_index = 9090\n",
    "image_data = train_digit_recognizer_dataframe.iloc[random_index, 1:].values.reshape(28, 28)\n",
    "plt.figure(figsize=(7, 5)) \n",
    "plt.imshow(image_data, cmap='gray')\n",
    "plt.title(f\"Example Digit at Index {random_index}\")\n",
    "plt.axis(\"off\")\n",
    "plt.show()\n"
   ]
  },
  {
   "cell_type": "code",
   "execution_count": 22,
   "metadata": {},
   "outputs": [
    {
     "data": {
      "image/png": "[encoded data removed]",
      "text/plain": [
       "<Figure size 700x500 with 10 Axes>"
      ]
     },
     "metadata": {},
     "output_type": "display_data"
    }
   ],
   "source": [
    "fig, axes = plt.subplots(2, 5, figsize=(7, 5))\n",
    "for digit in range(10):\n",
    "    img = train_digit_recognizer_dataframe[train_digit_recognizer_dataframe['label'] == digit].iloc[0, 1:].values.reshape(28, 28)\n",
    "    ax = axes.flatten()[digit]\n",
    "    ax.imshow(img, cmap='gray')\n",
    "    ax.set_title(f\"Label: {digit}\")\n",
    "    ax.axis(\"off\")\n",
    "plt.tight_layout()\n",
    "plt.show()"
   ]
  },
  {
   "cell_type": "markdown",
   "metadata": {},
   "source": [
    "Average Image for Each Digit "
   ]
  },
  {
   "cell_type": "code",
   "execution_count": 23,
   "metadata": {},
   "outputs": [
    {
     "data": {
      "image/png": "[encoded data removed]",
      "text/plain": [
       "<Figure size 700x500 with 10 Axes>"
      ]
     },
     "metadata": {},
     "output_type": "display_data"
    }
   ],
   "source": [
    "fig, axes = plt.subplots(2, 5, figsize=(7, 5))\n",
    "for i, digit in enumerate(range(10)):\n",
    "    avg_image = train_digit_recognizer_dataframe[train_digit_recognizer_dataframe['label'] == digit].iloc[:, 1:].mean().values.reshape(28, 28)\n",
    "    ax = axes.flat[i]\n",
    "    ax.imshow(avg_image, cmap='gray')\n",
    "    ax.set_title(f\"Avg {digit}\")\n",
    "    ax.axis(\"off\")\n",
    "plt.tight_layout()\n",
    "plt.show()"
   ]
  },
  {
   "cell_type": "markdown",
   "metadata": {},
   "source": [
    "Pixel Variance For Digit"
   ]
  },
  {
   "cell_type": "code",
   "execution_count": 24,
   "metadata": {},
   "outputs": [
    {
     "data": {
      "image/png": "[encoded data removed]",
      "text/plain": [
       "<Figure size 700x500 with 10 Axes>"
      ]
     },
     "metadata": {},
     "output_type": "display_data"
    }
   ],
   "source": [
    "fig, axes = plt.subplots(2, 5, figsize=(7, 5))\n",
    "for digit in range(10):\n",
    "    var_image = train_digit_recognizer_dataframe[train_digit_recognizer_dataframe['label'] == digit].iloc[:, 1:].var().values.reshape(28, 28)\n",
    "    ax = axes[digit // 5, digit % 5]\n",
    "    ax.imshow(var_image, cmap='hot')\n",
    "    ax.set_title(f\"Var {digit}\")\n",
    "    ax.axis(\"off\")\n",
    "plt.tight_layout()\n",
    "plt.show()"
   ]
  },
  {
   "cell_type": "markdown",
   "metadata": {},
   "source": [
    "### PART 05 Overview of findings and next steps"
   ]
  },
  {
   "cell_type": "markdown",
   "metadata": {},
   "source": [
    "##### As of this part of the research, we can understand that the dataset has no missing values, and therefore it is ready to proceed to the next step. Before we focus on training and modeling, there are some additional steps to take in order to make sure the model performs as expected. Firstly, the pixel values will be scaled between 0 and 1 in order for the process to have a better modeling procedure and improve training. As we know, the dataset is well-structured, so it is very unlikely to have outliers and pixel values that are considered to be unusual, and we can also assume that imputation will not be required as there were no missing values indicated within the training dataset.\n",
    "\n",
    "##### Since the labels are already numerical, one-hot encoding will be applied in order to convert them into a binary suitable format for neural network training, and for that, we will use to_categorical. However, label encoding will be considered unnecessary as the labels are already structured in an appropriate manner.\n",
    "\n",
    "\n",
    "##### As the dataset includes continuous pixel levels of intensity rather than discrete categories, binning will not be required. Previously, EDA was conducted to analyze pixel value patterns and variations, ensuring all digits (0–9) are properly represented. An outlier analysis will also be performed to detect any unusual pixel intensities that could impact training.\n",
    "\n",
    "##### The next stages will involve the dataset being divided into three parts: testing, training, and validation. This will help evaluate how well the model performs. Afterwards, hyperparameter tuning will be used in order to optimize the models that were created for neural network performance by adjusting parameters such as the number of layers, neurons per layer, activation functions, and batch size. The adjustments in the hyperparameters will help create an improvement in the model's accuracy in being able to recognize digits that are handwritten.\n"
   ]
  },
  {
   "cell_type": "markdown",
   "metadata": {},
   "source": [
    "### PART 06 Cleansing and Preprocessing"
   ]
  },
  {
   "cell_type": "code",
   "execution_count": 25,
   "metadata": {},
   "outputs": [
    {
     "name": "stdout",
     "output_type": "stream",
     "text": [
      "The number of missing values is 0\n"
     ]
    }
   ],
   "source": [
    "print(\"The number of missing values is\", train_digit_recognizer_dataframe.isnull().any().sum())"
   ]
  },
  {
   "cell_type": "markdown",
   "metadata": {},
   "source": [
    "Outliers"
   ]
  },
  {
   "cell_type": "code",
   "execution_count": 26,
   "metadata": {},
   "outputs": [],
   "source": [
    "pixel_values = train_digit_recognizer_dataframe.drop(columns=['label']).values.flatten()"
   ]
  },
  {
   "cell_type": "code",
   "execution_count": 27,
   "metadata": {},
   "outputs": [
    {
     "name": "stdout",
     "output_type": "stream",
     "text": [
      "Pixel Value Statistics:\n",
      "Min: 0\n",
      "Max: 255\n",
      "Mean: 33.41\n",
      "Std Dev: 78.68\n"
     ]
    }
   ],
   "source": [
    "print(\"Pixel Value Statistics:\")\n",
    "print(\"Min:\", np.min(pixel_values))\n",
    "print(\"Max:\", np.max(pixel_values))\n",
    "print(\"Mean:\", round(np.mean(pixel_values), 2))\n",
    "print(\"Std Dev:\", round(np.std(pixel_values), 2))"
   ]
  },
  {
   "cell_type": "code",
   "execution_count": 28,
   "metadata": {},
   "outputs": [
    {
     "data": {
      "image/png": "[encoded data removed]",
      "text/plain": [
       "<Figure size 700x500 with 1 Axes>"
      ]
     },
     "metadata": {},
     "output_type": "display_data"
    }
   ],
   "source": [
    "plt.figure(figsize=(7, 5))\n",
    "sns.histplot(pixel_values, bins=50, kde=True, color='blue')\n",
    "plt.xlabel(\"Pixel Intensity (0-255)\")\n",
    "plt.ylabel(\"Count\")\n",
    "plt.title(\"Pixel Intensity Distribution\")\n",
    "plt.show()\n"
   ]
  },
  {
   "cell_type": "markdown",
   "metadata": {},
   "source": [
    "### PART 07 FEATURE ENGINEERING"
   ]
  },
  {
   "cell_type": "markdown",
   "metadata": {},
   "source": [
    "Extracting features and labels\n"
   ]
  },
  {
   "cell_type": "markdown",
   "metadata": {},
   "source": [
    "X  is the Pixel values and Y is the labels "
   ]
  },
  {
   "cell_type": "code",
   "execution_count": 29,
   "metadata": {},
   "outputs": [],
   "source": [
    "X = train_digit_recognizer_dataframe.drop(columns=['label']).values \n",
    "y = train_digit_recognizer_dataframe['label'].values  \n"
   ]
  },
  {
   "cell_type": "code",
   "execution_count": 30,
   "metadata": {},
   "outputs": [],
   "source": [
    "scaler = MinMaxScaler()\n",
    "X_scaled = scaler.fit_transform(X)\n"
   ]
  },
  {
   "cell_type": "code",
   "execution_count": 31,
   "metadata": {},
   "outputs": [],
   "source": [
    "augment_data = ImageDataGenerator(\n",
    "    rotation_range=10,\n",
    "    width_shift_range=0.1,\n",
    "    height_shift_range=0.1,\n",
    "    zoom_range=0.1\n",
    ")"
   ]
  },
  {
   "cell_type": "code",
   "execution_count": 32,
   "metadata": {},
   "outputs": [],
   "source": [
    "y_categorized_binary = to_categorical(y, num_classes=10)"
   ]
  },
  {
   "cell_type": "markdown",
   "metadata": {},
   "source": [
    "### PART 08 Overview presentation of the cleaned dataset"
   ]
  },
  {
   "cell_type": "markdown",
   "metadata": {},
   "source": [
    "##### At this point in the research, the data has been cleaned up and is ready to proceed to the next step: training. The labels have been processed correctly to ensure they are in the proper format for the models to understand. The pixel values were scaled between 0 and 1 using MinMaxScaler to improve the modeling process and training efficiency. Data augmentation was applied using techniques like rotation, shifting, and zooming to help the model become familiar with different variations of digits, improving its ability to recognize them in different forms."
   ]
  },
  {
   "cell_type": "markdown",
   "metadata": {},
   "source": [
    "### PART 09 Final EDA and comparisons"
   ]
  },
  {
   "cell_type": "markdown",
   "metadata": {},
   "source": [
    "Before Processing "
   ]
  },
  {
   "cell_type": "code",
   "execution_count": 33,
   "metadata": {},
   "outputs": [
    {
     "data": {
      "image/png": "[encoded data removed]",
      "text/plain": [
       "<Figure size 700x500 with 1 Axes>"
      ]
     },
     "metadata": {},
     "output_type": "display_data"
    }
   ],
   "source": [
    "label_counts = train_digit_recognizer_dataframe['label'].value_counts().sort_index()\n",
    "\n",
    "plt.figure(figsize=(7, 5))\n",
    "bars = plt.bar(label_counts.index, label_counts.values, color='#A7C7E7', edgecolor='black', alpha=0.9)  # Light blue\n",
    "\n",
    "for bar in bars:\n",
    "    plt.text(bar.get_x() + bar.get_width()/2, bar.get_height() + 50, int(bar.get_height()), ha='center', fontsize=10)\n",
    "\n",
    "plt.title(\"Class Distribution Before Processing\")\n",
    "plt.xlabel(\"Digit Label\")\n",
    "plt.ylabel(\"Count\")\n",
    "\n",
    "plt.show()\n"
   ]
  },
  {
   "cell_type": "markdown",
   "metadata": {},
   "source": [
    "After processing"
   ]
  },
  {
   "cell_type": "code",
   "execution_count": 34,
   "metadata": {},
   "outputs": [
    {
     "data": {
      "image/png": "[encoded data removed]",
      "text/plain": [
       "<Figure size 700x500 with 1 Axes>"
      ]
     },
     "metadata": {},
     "output_type": "display_data"
    }
   ],
   "source": [
    "one_hot_sums = np.sum(y_categorized_binary, axis=0)\n",
    "\n",
    "plt.figure(figsize=(7, 5))\n",
    "bars = plt.bar(np.arange(10), one_hot_sums, color='#6A9EC6', edgecolor='black', alpha=0.9)  # Light blue\n",
    "\n",
    "for bar in bars:\n",
    "    plt.text(bar.get_x() + bar.get_width()/2, \n",
    "             bar.get_height() + 50, \n",
    "             int(bar.get_height()), \n",
    "             ha='center', \n",
    "             fontsize=10)\n",
    "\n",
    "plt.title(\"Class Distribution After One-Hot Encoding\")\n",
    "plt.xlabel(\"Digit Label\")\n",
    "plt.ylabel(\"Count\")\n",
    "\n",
    "plt.show()\n"
   ]
  },
  {
   "cell_type": "code",
   "execution_count": 35,
   "metadata": {},
   "outputs": [
    {
     "data": {
      "image/png": "[encoded data removed]",
      "text/plain": [
       "<Figure size 700x500 with 5 Axes>"
      ]
     },
     "metadata": {},
     "output_type": "display_data"
    }
   ],
   "source": [
    "sample_images = X[:5].reshape(5, 28, 28, 1) \n",
    "\n",
    "augmented_images = next(augment_data.flow(sample_images, batch_size=5))\n",
    "\n",
    "fig, axes = plt.subplots(1, 5, figsize=(7, 5))\n",
    "for i, ax in enumerate(axes):\n",
    "    ax.imshow(augmented_images[i].reshape(28, 28), cmap=\"gray\")  \n",
    "    ax.set_title(f\"Augmented {i+1}\")\n",
    "    ax.axis(\"off\")\n",
    "\n",
    "plt.tight_layout()\n",
    "plt.show()"
   ]
  },
  {
   "cell_type": "markdown",
   "metadata": {},
   "source": [
    "### PART 10 Data preprocessing specific to the model"
   ]
  },
  {
   "cell_type": "markdown",
   "metadata": {},
   "source": [
    "All of the preprocessing has been completed scaling, encoding, augmentation were already done in previous sections-  feature engineering and cleansing."
   ]
  },
  {
   "cell_type": "code",
   "execution_count": 36,
   "metadata": {},
   "outputs": [
    {
     "name": "stdout",
     "output_type": "stream",
     "text": [
      "\n",
      "Data preprocessing specific to the model:\n",
      "\n",
      "Shape of original features: (42000, 784)\n"
     ]
    }
   ],
   "source": [
    "print(\"\\nData preprocessing specific to the model:\")\n",
    "print(f\"\\nShape of original features: {X.shape}\")"
   ]
  },
  {
   "cell_type": "markdown",
   "metadata": {},
   "source": [
    "### PART 11 Splitting"
   ]
  },
  {
   "cell_type": "markdown",
   "metadata": {},
   "source": [
    "Spliting the data into training and validation sets"
   ]
  },
  {
   "cell_type": "code",
   "execution_count": 37,
   "metadata": {},
   "outputs": [],
   "source": [
    "X_train, X_val, y_train, y_val = train_test_split(\n",
    "    X_scaled, y_categorized_binary, test_size=0.2, random_state=42, stratify=y_categorized_binary.argmax(axis=1)\n",
    ")\n",
    "X_val, X_test, y_val, y_test = train_test_split(\n",
    "    X_val, y_val, test_size=0.5, random_state=42, stratify=y_val.argmax(axis=1)\n",
    ")"
   ]
  },
  {
   "cell_type": "code",
   "execution_count": 38,
   "metadata": {},
   "outputs": [
    {
     "name": "stdout",
     "output_type": "stream",
     "text": [
      "\n",
      "Data Splitting Summary:\n",
      "Train Set: (33600, 784), Labels: (33600, 10)\n",
      "Test Set: (4200, 784), Labels: (4200, 10)\n",
      "Validation Set: (4200, 784), Labels: (4200, 10)\n"
     ]
    }
   ],
   "source": [
    "print(\"\\nData Splitting Summary:\")\n",
    "print(f\"Train Set: {X_train.shape}, Labels: {y_train.shape}\")  \n",
    "print(f\"Test Set: {X_test.shape}, Labels: {y_test.shape}\")  \n",
    "print(f\"Validation Set: {X_val.shape}, Labels: {y_val.shape}\")  \n"
   ]
  },
  {
   "cell_type": "markdown",
   "metadata": {},
   "source": [
    "### PART 12 Overview of the steps to be completed and the rationale"
   ]
  },
  {
   "cell_type": "markdown",
   "metadata": {},
   "source": [
    "##### The dataset has been split into training, testing, and validation sets, the features have been scaled using MinMaxScaler, and the labels have been converted to binary with the help of one-hot encoding. Now that these three important steps are complete, the models will be trained using multiple neural networks by adjusting hyperparameters such as the number of layers, neurons, activation functions, and different optimization strategies. Once the training is complete, we will evaluate the models using important factors such as accuracy, loss curves, confusion matrices, and ROC curves. With all the information obtained, we will compare the results to understand how neural network configurations impact digit recognition performance. Based on these findings, we will identify the most effective model architecture and determine potential improvements for future experimentation."
   ]
  },
  {
   "cell_type": "markdown",
   "metadata": {},
   "source": [
    "### PART 13 Model training cross-validation.\n",
    "\n"
   ]
  },
  {
   "cell_type": "markdown",
   "metadata": {},
   "source": [
    "Model 01 - 2 Layers, 10 Neurons per Layer"
   ]
  },
  {
   "cell_type": "code",
   "execution_count": 39,
   "metadata": {},
   "outputs": [
    {
     "name": "stderr",
     "output_type": "stream",
     "text": [
      "/opt/homebrew/Caskroom/miniforge/base/envs/tf-mac/lib/python3.9/site-packages/keras/src/layers/reshaping/flatten.py:37: UserWarning: Do not pass an `input_shape`/`input_dim` argument to a layer. When using Sequential models, prefer using an `Input(shape)` object as the first layer in the model instead.\n",
      "  super().__init__(**kwargs)\n",
      "2025-03-01 17:49:51.348512: I metal_plugin/src/device/metal_device.cc:1154] Metal device set to: Apple M2 Pro\n",
      "2025-03-01 17:49:51.348652: I metal_plugin/src/device/metal_device.cc:296] systemMemory: 16.00 GB\n",
      "2025-03-01 17:49:51.348672: I metal_plugin/src/device/metal_device.cc:313] maxCacheSize: 5.33 GB\n",
      "2025-03-01 17:49:51.348864: I tensorflow/core/common_runtime/pluggable_device/pluggable_device_factory.cc:305] Could not identify NUMA node of platform GPU ID 0, defaulting to 0. Your kernel may not have been built with NUMA support.\n",
      "2025-03-01 17:49:51.348875: I tensorflow/core/common_runtime/pluggable_device/pluggable_device_factory.cc:271] Created TensorFlow device (/job:localhost/replica:0/task:0/device:GPU:0 with 0 MB memory) -> physical PluggableDevice (device: 0, name: METAL, pci bus id: <undefined>)\n"
     ]
    }
   ],
   "source": [
    "model_01 = Sequential([\n",
    "    Flatten(input_shape=(784,)),   # 28x28 = 784\n",
    "    Dense(10, activation='relu'), # Hidden Layer 1\n",
    "    Dense(10, activation='relu'),  # Hidden Layer 2\n",
    "    Dense(10, activation='softmax')  # Output Layer (10 classes)\n",
    "])\n"
   ]
  },
  {
   "cell_type": "code",
   "execution_count": 40,
   "metadata": {},
   "outputs": [
    {
     "name": "stdout",
     "output_type": "stream",
     "text": [
      "Epoch 1/20\n"
     ]
    },
    {
     "name": "stderr",
     "output_type": "stream",
     "text": [
      "2025-03-01 17:49:51.766995: I tensorflow/core/grappler/optimizers/custom_graph_optimizer_registry.cc:117] Plugin optimizer for device_type GPU is enabled.\n"
     ]
    },
    {
     "name": "stdout",
     "output_type": "stream",
     "text": [
      "\u001b[1m1050/1050\u001b[0m \u001b[32m━━━━━━━━━━━━━━━━━━━━\u001b[0m\u001b[37m\u001b[0m \u001b[1m11s\u001b[0m 10ms/step - accuracy: 0.6018 - loss: 1.1848 - val_accuracy: 0.8855 - val_loss: 0.3960\n",
      "Epoch 2/20\n",
      "\u001b[1m1050/1050\u001b[0m \u001b[32m━━━━━━━━━━━━━━━━━━━━\u001b[0m\u001b[37m\u001b[0m \u001b[1m10s\u001b[0m 10ms/step - accuracy: 0.8967 - loss: 0.3782 - val_accuracy: 0.8888 - val_loss: 0.3799\n",
      "Epoch 3/20\n",
      "\u001b[1m1050/1050\u001b[0m \u001b[32m━━━━━━━━━━━━━━━━━━━━\u001b[0m\u001b[37m\u001b[0m \u001b[1m10s\u001b[0m 10ms/step - accuracy: 0.8982 - loss: 0.3671 - val_accuracy: 0.8976 - val_loss: 0.3741\n",
      "Epoch 4/20\n",
      "\u001b[1m1050/1050\u001b[0m \u001b[32m━━━━━━━━━━━━━━━━━━━━\u001b[0m\u001b[37m\u001b[0m \u001b[1m10s\u001b[0m 10ms/step - accuracy: 0.9018 - loss: 0.3549 - val_accuracy: 0.8910 - val_loss: 0.3846\n",
      "Epoch 5/20\n",
      "\u001b[1m1050/1050\u001b[0m \u001b[32m━━━━━━━━━━━━━━━━━━━━\u001b[0m\u001b[37m\u001b[0m \u001b[1m10s\u001b[0m 10ms/step - accuracy: 0.8982 - loss: 0.3733 - val_accuracy: 0.8945 - val_loss: 0.3872\n",
      "Epoch 6/20\n",
      "\u001b[1m1050/1050\u001b[0m \u001b[32m━━━━━━━━━━━━━━━━━━━━\u001b[0m\u001b[37m\u001b[0m \u001b[1m11s\u001b[0m 10ms/step - accuracy: 0.8987 - loss: 0.3606 - val_accuracy: 0.8874 - val_loss: 0.4140\n",
      "Epoch 7/20\n",
      "\u001b[1m1050/1050\u001b[0m \u001b[32m━━━━━━━━━━━━━━━━━━━━\u001b[0m\u001b[37m\u001b[0m \u001b[1m10s\u001b[0m 10ms/step - accuracy: 0.8964 - loss: 0.3788 - val_accuracy: 0.8810 - val_loss: 0.4204\n",
      "Epoch 8/20\n",
      "\u001b[1m1050/1050\u001b[0m \u001b[32m━━━━━━━━━━━━━━━━━━━━\u001b[0m\u001b[37m\u001b[0m \u001b[1m10s\u001b[0m 10ms/step - accuracy: 0.8830 - loss: 0.4269 - val_accuracy: 0.8774 - val_loss: 0.4563\n",
      "Epoch 9/20\n",
      "\u001b[1m1050/1050\u001b[0m \u001b[32m━━━━━━━━━━━━━━━━━━━━\u001b[0m\u001b[37m\u001b[0m \u001b[1m10s\u001b[0m 10ms/step - accuracy: 0.8813 - loss: 0.4304 - val_accuracy: 0.8757 - val_loss: 0.4550\n",
      "Epoch 10/20\n",
      "\u001b[1m1050/1050\u001b[0m \u001b[32m━━━━━━━━━━━━━━━━━━━━\u001b[0m\u001b[37m\u001b[0m \u001b[1m10s\u001b[0m 10ms/step - accuracy: 0.8784 - loss: 0.4541 - val_accuracy: 0.8648 - val_loss: 0.4909\n",
      "Epoch 11/20\n",
      "\u001b[1m1050/1050\u001b[0m \u001b[32m━━━━━━━━━━━━━━━━━━━━\u001b[0m\u001b[37m\u001b[0m \u001b[1m10s\u001b[0m 10ms/step - accuracy: 0.8670 - loss: 0.4784 - val_accuracy: 0.8543 - val_loss: 0.5465\n",
      "Epoch 12/20\n",
      "\u001b[1m1050/1050\u001b[0m \u001b[32m━━━━━━━━━━━━━━━━━━━━\u001b[0m\u001b[37m\u001b[0m \u001b[1m10s\u001b[0m 10ms/step - accuracy: 0.8522 - loss: 0.5385 - val_accuracy: 0.8174 - val_loss: 0.6496\n",
      "Epoch 13/20\n",
      "\u001b[1m1050/1050\u001b[0m \u001b[32m━━━━━━━━━━━━━━━━━━━━\u001b[0m\u001b[37m\u001b[0m \u001b[1m10s\u001b[0m 10ms/step - accuracy: 0.8396 - loss: 0.6016 - val_accuracy: 0.8124 - val_loss: 0.6895\n",
      "Epoch 14/20\n",
      "\u001b[1m1050/1050\u001b[0m \u001b[32m━━━━━━━━━━━━━━━━━━━━\u001b[0m\u001b[37m\u001b[0m \u001b[1m10s\u001b[0m 10ms/step - accuracy: 0.8224 - loss: 0.6736 - val_accuracy: 0.8236 - val_loss: 0.6976\n",
      "Epoch 15/20\n",
      "\u001b[1m1050/1050\u001b[0m \u001b[32m━━━━━━━━━━━━━━━━━━━━\u001b[0m\u001b[37m\u001b[0m \u001b[1m10s\u001b[0m 10ms/step - accuracy: 0.8141 - loss: 0.7165 - val_accuracy: 0.7631 - val_loss: 0.9009\n",
      "Epoch 16/20\n",
      "\u001b[1m1050/1050\u001b[0m \u001b[32m━━━━━━━━━━━━━━━━━━━━\u001b[0m\u001b[37m\u001b[0m \u001b[1m10s\u001b[0m 10ms/step - accuracy: 0.8017 - loss: 0.8123 - val_accuracy: 0.7993 - val_loss: 0.7939\n",
      "Epoch 17/20\n",
      "\u001b[1m1050/1050\u001b[0m \u001b[32m━━━━━━━━━━━━━━━━━━━━\u001b[0m\u001b[37m\u001b[0m \u001b[1m10s\u001b[0m 10ms/step - accuracy: 0.8057 - loss: 0.8466 - val_accuracy: 0.8088 - val_loss: 0.7969\n",
      "Epoch 18/20\n",
      "\u001b[1m1050/1050\u001b[0m \u001b[32m━━━━━━━━━━━━━━━━━━━━\u001b[0m\u001b[37m\u001b[0m \u001b[1m10s\u001b[0m 10ms/step - accuracy: 0.7883 - loss: 0.9576 - val_accuracy: 0.7621 - val_loss: 1.1970\n",
      "Epoch 19/20\n",
      "\u001b[1m1050/1050\u001b[0m \u001b[32m━━━━━━━━━━━━━━━━━━━━\u001b[0m\u001b[37m\u001b[0m \u001b[1m10s\u001b[0m 10ms/step - accuracy: 0.7910 - loss: 1.0208 - val_accuracy: 0.7831 - val_loss: 1.0663\n",
      "Epoch 20/20\n",
      "\u001b[1m1050/1050\u001b[0m \u001b[32m━━━━━━━━━━━━━━━━━━━━\u001b[0m\u001b[37m\u001b[0m \u001b[1m10s\u001b[0m 10ms/step - accuracy: 0.7897 - loss: 1.0610 - val_accuracy: 0.7660 - val_loss: 1.2913\n",
      "\n",
      "The time to train a model that was 2 Layers, 10 Neurons 206.10 seconds.\n"
     ]
    }
   ],
   "source": [
    "model_01.compile(optimizer=Adam(0.001), loss='categorical_crossentropy', metrics=['accuracy']) # loss function for classification\n",
    "\n",
    "start_time = time.time()\n",
    "training_history_1 = model_01.fit(X_train, y_train, validation_data=(X_val, y_val), epochs=20, batch_size=32, verbose=1)\n",
    "training_time_1 = time.time() - start_time\n",
    "print(f\"\\nThe time to train a model that was 2 Layers, 10 Neurons {training_time_1:.2f} seconds.\")\n"
   ]
  },
  {
   "cell_type": "code",
   "execution_count": 41,
   "metadata": {},
   "outputs": [],
   "source": [
    "test_loss_model01, test_accuracy_model01 = model_01.evaluate(X_test, y_test, verbose=0) # Evaluate the model on the test set\n"
   ]
  },
  {
   "cell_type": "code",
   "execution_count": 42,
   "metadata": {},
   "outputs": [
    {
     "name": "stdout",
     "output_type": "stream",
     "text": [
      "\n",
      "Model 1 Test Loss: 1.2301\n",
      "Model 1 Test Accuracy: 0.7836\n"
     ]
    }
   ],
   "source": [
    "print(f\"\\nModel 1 Test Loss: {test_loss_model01:.4f}\") \n",
    "print(f\"Model 1 Test Accuracy: {test_accuracy_model01:.4f}\")"
   ]
  },
  {
   "cell_type": "code",
   "execution_count": 43,
   "metadata": {},
   "outputs": [
    {
     "name": "stdout",
     "output_type": "stream",
     "text": [
      "\u001b[1m132/132\u001b[0m \u001b[32m━━━━━━━━━━━━━━━━━━━━\u001b[0m\u001b[37m\u001b[0m \u001b[1m0s\u001b[0m 1ms/step\n",
      "\n",
      "Confusion Matrix for Model 1 (2 Layers, 10 Neurons):\n",
      " [[344   0  55   1   1   0   8   1   2   1]\n",
      " [  0 437   0   3   5  12   0   2   5   4]\n",
      " [ 15   1 318  13  15   2  10  22  10  12]\n",
      " [  4   2  18 373   0  12   1   6   6  13]\n",
      " [  4   0   2   0 329   3   5   0   2  62]\n",
      " [ 13   4  15  12  11 270  10   3  38   4]\n",
      " [  5   2   9   0  23   1 361   0   7   6]\n",
      " [  8   0   5   5   5   1   0 298   0 118]\n",
      " [ 13   8  20  24  16  25   8   0 248  44]\n",
      " [  8   0   6   2  78   1   1   4   6 313]]\n"
     ]
    }
   ],
   "source": [
    "predictions_1 = model_01.predict(X_test).argmax(axis=1)  # Get the class with the highest probability\n",
    "actual_labels_1 = y_test.argmax(axis=1)  \n",
    "conf_matrix_1 = confusion_matrix(actual_labels_1, predictions_1)\n",
    "\n",
    "print(f\"\\nConfusion Matrix for Model 1 (2 Layers, 10 Neurons):\\n\", conf_matrix_1)\n"
   ]
  },
  {
   "cell_type": "markdown",
   "metadata": {},
   "source": [
    "Model 02 - 2 Layers, 20 Neurons per Layer"
   ]
  },
  {
   "cell_type": "code",
   "execution_count": 44,
   "metadata": {},
   "outputs": [
    {
     "name": "stderr",
     "output_type": "stream",
     "text": [
      "/opt/homebrew/Caskroom/miniforge/base/envs/tf-mac/lib/python3.9/site-packages/keras/src/layers/reshaping/flatten.py:37: UserWarning: Do not pass an `input_shape`/`input_dim` argument to a layer. When using Sequential models, prefer using an `Input(shape)` object as the first layer in the model instead.\n",
      "  super().__init__(**kwargs)\n"
     ]
    }
   ],
   "source": [
    "model_2 = Sequential([\n",
    "    Flatten(input_shape=(784,)),  # 28x28 = 784\n",
    "    Dense(20, activation='relu'),  # Hidden Layer 1\n",
    "    Dense(20, activation='relu'), # Hidden Layer 2\n",
    "    Dense(10, activation='softmax')  # Output Layer (10 classes)\n",
    "])\n"
   ]
  },
  {
   "cell_type": "code",
   "execution_count": 45,
   "metadata": {},
   "outputs": [
    {
     "name": "stdout",
     "output_type": "stream",
     "text": [
      "Epoch 1/20\n",
      "\u001b[1m1050/1050\u001b[0m \u001b[32m━━━━━━━━━━━━━━━━━━━━\u001b[0m\u001b[37m\u001b[0m \u001b[1m11s\u001b[0m 10ms/step - accuracy: 0.7094 - loss: 0.9231 - val_accuracy: 0.8969 - val_loss: 0.3655\n",
      "Epoch 2/20\n",
      "\u001b[1m1050/1050\u001b[0m \u001b[32m━━━━━━━━━━━━━━━━━━━━\u001b[0m\u001b[37m\u001b[0m \u001b[1m10s\u001b[0m 10ms/step - accuracy: 0.9070 - loss: 0.3280 - val_accuracy: 0.9029 - val_loss: 0.3433\n",
      "Epoch 3/20\n",
      "\u001b[1m1050/1050\u001b[0m \u001b[32m━━━━━━━━━━━━━━━━━━━━\u001b[0m\u001b[37m\u001b[0m \u001b[1m10s\u001b[0m 10ms/step - accuracy: 0.9080 - loss: 0.3180 - val_accuracy: 0.8967 - val_loss: 0.3551\n",
      "Epoch 4/20\n",
      "\u001b[1m1050/1050\u001b[0m \u001b[32m━━━━━━━━━━━━━━━━━━━━\u001b[0m\u001b[37m\u001b[0m \u001b[1m10s\u001b[0m 10ms/step - accuracy: 0.9070 - loss: 0.3278 - val_accuracy: 0.9014 - val_loss: 0.3513\n",
      "Epoch 5/20\n",
      "\u001b[1m1050/1050\u001b[0m \u001b[32m━━━━━━━━━━━━━━━━━━━━\u001b[0m\u001b[37m\u001b[0m \u001b[1m10s\u001b[0m 10ms/step - accuracy: 0.9035 - loss: 0.3408 - val_accuracy: 0.8917 - val_loss: 0.3987\n",
      "Epoch 6/20\n",
      "\u001b[1m1050/1050\u001b[0m \u001b[32m━━━━━━━━━━━━━━━━━━━━\u001b[0m\u001b[37m\u001b[0m \u001b[1m10s\u001b[0m 10ms/step - accuracy: 0.8999 - loss: 0.3622 - val_accuracy: 0.8869 - val_loss: 0.4597\n",
      "Epoch 7/20\n",
      "\u001b[1m1050/1050\u001b[0m \u001b[32m━━━━━━━━━━━━━━━━━━━━\u001b[0m\u001b[37m\u001b[0m \u001b[1m10s\u001b[0m 10ms/step - accuracy: 0.8889 - loss: 0.4269 - val_accuracy: 0.8810 - val_loss: 0.4584\n",
      "Epoch 8/20\n",
      "\u001b[1m1050/1050\u001b[0m \u001b[32m━━━━━━━━━━━━━━━━━━━━\u001b[0m\u001b[37m\u001b[0m \u001b[1m10s\u001b[0m 10ms/step - accuracy: 0.8736 - loss: 0.4896 - val_accuracy: 0.8726 - val_loss: 0.5543\n",
      "Epoch 9/20\n",
      "\u001b[1m1050/1050\u001b[0m \u001b[32m━━━━━━━━━━━━━━━━━━━━\u001b[0m\u001b[37m\u001b[0m \u001b[1m10s\u001b[0m 10ms/step - accuracy: 0.8579 - loss: 0.6200 - val_accuracy: 0.8505 - val_loss: 0.6841\n",
      "Epoch 10/20\n",
      "\u001b[1m1050/1050\u001b[0m \u001b[32m━━━━━━━━━━━━━━━━━━━━\u001b[0m\u001b[37m\u001b[0m \u001b[1m11s\u001b[0m 10ms/step - accuracy: 0.8493 - loss: 0.7073 - val_accuracy: 0.8440 - val_loss: 0.7972\n",
      "Epoch 11/20\n",
      "\u001b[1m1050/1050\u001b[0m \u001b[32m━━━━━━━━━━━━━━━━━━━━\u001b[0m\u001b[37m\u001b[0m \u001b[1m12s\u001b[0m 11ms/step - accuracy: 0.8413 - loss: 0.8453 - val_accuracy: 0.7757 - val_loss: 1.4480\n",
      "Epoch 12/20\n",
      "\u001b[1m1050/1050\u001b[0m \u001b[32m━━━━━━━━━━━━━━━━━━━━\u001b[0m\u001b[37m\u001b[0m \u001b[1m10s\u001b[0m 10ms/step - accuracy: 0.8348 - loss: 0.9969 - val_accuracy: 0.8124 - val_loss: 1.5269\n",
      "Epoch 13/20\n",
      "\u001b[1m1050/1050\u001b[0m \u001b[32m━━━━━━━━━━━━━━━━━━━━\u001b[0m\u001b[37m\u001b[0m \u001b[1m11s\u001b[0m 10ms/step - accuracy: 0.8211 - loss: 1.1622 - val_accuracy: 0.8588 - val_loss: 1.1226\n",
      "Epoch 14/20\n",
      "\u001b[1m1050/1050\u001b[0m \u001b[32m━━━━━━━━━━━━━━━━━━━━\u001b[0m\u001b[37m\u001b[0m \u001b[1m12s\u001b[0m 12ms/step - accuracy: 0.8209 - loss: 1.2950 - val_accuracy: 0.7855 - val_loss: 1.8421\n",
      "Epoch 15/20\n",
      "\u001b[1m1050/1050\u001b[0m \u001b[32m━━━━━━━━━━━━━━━━━━━━\u001b[0m\u001b[37m\u001b[0m \u001b[1m10s\u001b[0m 10ms/step - accuracy: 0.8124 - loss: 1.5754 - val_accuracy: 0.8281 - val_loss: 1.3933\n",
      "Epoch 16/20\n",
      "\u001b[1m1050/1050\u001b[0m \u001b[32m━━━━━━━━━━━━━━━━━━━━\u001b[0m\u001b[37m\u001b[0m \u001b[1m10s\u001b[0m 10ms/step - accuracy: 0.8105 - loss: 1.6436 - val_accuracy: 0.7569 - val_loss: 2.6777\n",
      "Epoch 17/20\n",
      "\u001b[1m1050/1050\u001b[0m \u001b[32m━━━━━━━━━━━━━━━━━━━━\u001b[0m\u001b[37m\u001b[0m \u001b[1m10s\u001b[0m 10ms/step - accuracy: 0.7972 - loss: 2.0520 - val_accuracy: 0.8129 - val_loss: 1.8328\n",
      "Epoch 18/20\n",
      "\u001b[1m1050/1050\u001b[0m \u001b[32m━━━━━━━━━━━━━━━━━━━━\u001b[0m\u001b[37m\u001b[0m \u001b[1m10s\u001b[0m 10ms/step - accuracy: 0.8023 - loss: 2.1326 - val_accuracy: 0.7490 - val_loss: 3.2076\n",
      "Epoch 19/20\n",
      "\u001b[1m1050/1050\u001b[0m \u001b[32m━━━━━━━━━━━━━━━━━━━━\u001b[0m\u001b[37m\u001b[0m \u001b[1m10s\u001b[0m 10ms/step - accuracy: 0.7901 - loss: 2.5321 - val_accuracy: 0.7990 - val_loss: 2.4969\n",
      "Epoch 20/20\n",
      "\u001b[1m1050/1050\u001b[0m \u001b[32m━━━━━━━━━━━━━━━━━━━━\u001b[0m\u001b[37m\u001b[0m \u001b[1m11s\u001b[0m 10ms/step - accuracy: 0.7841 - loss: 2.8653 - val_accuracy: 0.7310 - val_loss: 3.4945\n",
      "\n",
      "The time to train a model with 2 Layers, 20 Neurons was 211.47 seconds.\n"
     ]
    }
   ],
   "source": [
    "model_2.compile(optimizer=Adam(0.001), loss='categorical_crossentropy', metrics=['accuracy'])\n",
    "start_time = time.time()\n",
    "training_history_2 = model_2.fit(X_train, y_train, validation_data=(X_val, y_val), epochs=20, batch_size=32, verbose=1)\n",
    "training_time_2 = time.time() - start_time\n",
    "print(f\"\\nThe time to train a model with 2 Layers, 20 Neurons was {training_time_2:.2f} seconds.\")\n"
   ]
  },
  {
   "cell_type": "code",
   "execution_count": 46,
   "metadata": {},
   "outputs": [],
   "source": [
    "test_loss_2, test_accuracy_2 = model_2.evaluate(X_test, y_test, verbose=0)"
   ]
  },
  {
   "cell_type": "code",
   "execution_count": 164,
   "metadata": {},
   "outputs": [
    {
     "data": {
      "text/plain": [
       "0.7226190567016602"
      ]
     },
     "execution_count": 164,
     "metadata": {},
     "output_type": "execute_result"
    }
   ],
   "source": [
    "test_accuracy_2"
   ]
  },
  {
   "cell_type": "code",
   "execution_count": 47,
   "metadata": {},
   "outputs": [
    {
     "name": "stdout",
     "output_type": "stream",
     "text": [
      "\u001b[1m132/132\u001b[0m \u001b[32m━━━━━━━━━━━━━━━━━━━━\u001b[0m\u001b[37m\u001b[0m \u001b[1m0s\u001b[0m 1ms/step\n",
      "\n",
      "Confusion Matrix for Model 2 (2 Layers, 20 Neurons):\n",
      " [[304   0  12   7   2  61  15   1   2   9]\n",
      " [  0 328  62   3   0  65   4   4   2   0]\n",
      " [  1   0 378  11   5   5  13   3   1   1]\n",
      " [  6   0  36 355   2  19   1   6   5   5]\n",
      " [  0   0   7   0 259   6  12   2   2 119]\n",
      " [ 21   1  22  93  32 192   3   3   7   6]\n",
      " [  1   0  49   0   2   5 346   0   2   9]\n",
      " [  0   0  15   3   3   4   2 262   5 146]\n",
      " [  3   2  74  37   0  15   4   3 250  18]\n",
      " [  0   0   9   4   7  14   1  20   3 361]]\n"
     ]
    }
   ],
   "source": [
    "predictions_2 = model_2.predict(X_test).argmax(axis=1)\n",
    "actual_labels_2 = y_test.argmax(axis=1)\n",
    "conf_matrix_2 = confusion_matrix(actual_labels_2, predictions_2)\n",
    "\n",
    "print(f\"\\nConfusion Matrix for Model 2 (2 Layers, 20 Neurons):\\n\", conf_matrix_2)"
   ]
  },
  {
   "cell_type": "markdown",
   "metadata": {},
   "source": [
    "Model 03 -  5 Layers, 10 Neurons per Layer"
   ]
  },
  {
   "cell_type": "code",
   "execution_count": 48,
   "metadata": {},
   "outputs": [
    {
     "name": "stderr",
     "output_type": "stream",
     "text": [
      "/opt/homebrew/Caskroom/miniforge/base/envs/tf-mac/lib/python3.9/site-packages/keras/src/layers/reshaping/flatten.py:37: UserWarning: Do not pass an `input_shape`/`input_dim` argument to a layer. When using Sequential models, prefer using an `Input(shape)` object as the first layer in the model instead.\n",
      "  super().__init__(**kwargs)\n"
     ]
    }
   ],
   "source": [
    "model_3 = Sequential([\n",
    "    Flatten(input_shape=(784,)),  # 28x28 = 784\n",
    "    Dense(10, activation='relu'),  # Hidden Layer 1\n",
    "    Dense(10, activation='relu'),  # Hidden Layer 2\n",
    "    Dense(10, activation='relu'),  #    Hidden Layer 3\n",
    "    Dense(10, activation='relu'),  # Hidden Layer 4\n",
    "    Dense(10, activation='relu'), # Hidden Layer 5\n",
    "    Dense(10, activation='softmax')  # Output Layer (10 classes)\n",
    "])\n"
   ]
  },
  {
   "cell_type": "code",
   "execution_count": 49,
   "metadata": {},
   "outputs": [
    {
     "name": "stdout",
     "output_type": "stream",
     "text": [
      "Epoch 1/20\n",
      "\u001b[1m1050/1050\u001b[0m \u001b[32m━━━━━━━━━━━━━━━━━━━━\u001b[0m\u001b[37m\u001b[0m \u001b[1m16s\u001b[0m 14ms/step - accuracy: 0.4938 - loss: 1.4252 - val_accuracy: 0.8336 - val_loss: 0.5909\n",
      "Epoch 2/20\n",
      "\u001b[1m1050/1050\u001b[0m \u001b[32m━━━━━━━━━━━━━━━━━━━━\u001b[0m\u001b[37m\u001b[0m \u001b[1m15s\u001b[0m 14ms/step - accuracy: 0.8011 - loss: 0.7771 - val_accuracy: 0.5455 - val_loss: 3.2390\n",
      "Epoch 3/20\n",
      "\u001b[1m1050/1050\u001b[0m \u001b[32m━━━━━━━━━━━━━━━━━━━━\u001b[0m\u001b[37m\u001b[0m \u001b[1m15s\u001b[0m 14ms/step - accuracy: 0.5051 - loss: 8.4095 - val_accuracy: 0.4212 - val_loss: 28.9497\n",
      "Epoch 4/20\n",
      "\u001b[1m1050/1050\u001b[0m \u001b[32m━━━━━━━━━━━━━━━━━━━━\u001b[0m\u001b[37m\u001b[0m \u001b[1m16s\u001b[0m 15ms/step - accuracy: 0.3548 - loss: 51.9503 - val_accuracy: 0.4017 - val_loss: 135.9514\n",
      "Epoch 5/20\n",
      "\u001b[1m1050/1050\u001b[0m \u001b[32m━━━━━━━━━━━━━━━━━━━━\u001b[0m\u001b[37m\u001b[0m \u001b[1m18s\u001b[0m 17ms/step - accuracy: 0.2916 - loss: 133.6581 - val_accuracy: 0.3036 - val_loss: 216.6868\n",
      "Epoch 6/20\n",
      "\u001b[1m1050/1050\u001b[0m \u001b[32m━━━━━━━━━━━━━━━━━━━━\u001b[0m\u001b[37m\u001b[0m \u001b[1m16s\u001b[0m 15ms/step - accuracy: 0.2428 - loss: 275.5424 - val_accuracy: 0.2910 - val_loss: 449.3248\n",
      "Epoch 7/20\n",
      "\u001b[1m1050/1050\u001b[0m \u001b[32m━━━━━━━━━━━━━━━━━━━━\u001b[0m\u001b[37m\u001b[0m \u001b[1m16s\u001b[0m 15ms/step - accuracy: 0.2106 - loss: 515.2891 - val_accuracy: 0.2933 - val_loss: 816.2946\n",
      "Epoch 8/20\n",
      "\u001b[1m1050/1050\u001b[0m \u001b[32m━━━━━━━━━━━━━━━━━━━━\u001b[0m\u001b[37m\u001b[0m \u001b[1m16s\u001b[0m 15ms/step - accuracy: 0.2191 - loss: 960.9270 - val_accuracy: 0.2202 - val_loss: 1455.2322\n",
      "Epoch 9/20\n",
      "\u001b[1m1050/1050\u001b[0m \u001b[32m━━━━━━━━━━━━━━━━━━━━\u001b[0m\u001b[37m\u001b[0m \u001b[1m16s\u001b[0m 15ms/step - accuracy: 0.2200 - loss: 1405.9553 - val_accuracy: 0.3110 - val_loss: 1614.2653\n",
      "Epoch 10/20\n",
      "\u001b[1m1050/1050\u001b[0m \u001b[32m━━━━━━━━━━━━━━━━━━━━\u001b[0m\u001b[37m\u001b[0m \u001b[1m16s\u001b[0m 15ms/step - accuracy: 0.2265 - loss: 2258.4690 - val_accuracy: 0.2286 - val_loss: 3888.4417\n",
      "Epoch 11/20\n",
      "\u001b[1m1050/1050\u001b[0m \u001b[32m━━━━━━━━━━━━━━━━━━━━\u001b[0m\u001b[37m\u001b[0m \u001b[1m16s\u001b[0m 15ms/step - accuracy: 0.2321 - loss: 3871.8928 - val_accuracy: 0.1879 - val_loss: 2614.3965\n",
      "Epoch 12/20\n",
      "\u001b[1m1050/1050\u001b[0m \u001b[32m━━━━━━━━━━━━━━━━━━━━\u001b[0m\u001b[37m\u001b[0m \u001b[1m16s\u001b[0m 15ms/step - accuracy: 0.2246 - loss: 5413.5146 - val_accuracy: 0.1526 - val_loss: 8056.4180\n",
      "Epoch 13/20\n",
      "\u001b[1m1050/1050\u001b[0m \u001b[32m━━━━━━━━━━━━━━━━━━━━\u001b[0m\u001b[37m\u001b[0m \u001b[1m16s\u001b[0m 15ms/step - accuracy: 0.2303 - loss: 8431.0684 - val_accuracy: 0.3014 - val_loss: 9819.4512\n",
      "Epoch 14/20\n",
      "\u001b[1m1050/1050\u001b[0m \u001b[32m━━━━━━━━━━━━━━━━━━━━\u001b[0m\u001b[37m\u001b[0m \u001b[1m16s\u001b[0m 15ms/step - accuracy: 0.2388 - loss: 12085.9180 - val_accuracy: 0.3224 - val_loss: 13154.5840\n",
      "Epoch 15/20\n",
      "\u001b[1m1050/1050\u001b[0m \u001b[32m━━━━━━━━━━━━━━━━━━━━\u001b[0m\u001b[37m\u001b[0m \u001b[1m16s\u001b[0m 15ms/step - accuracy: 0.2338 - loss: 17004.2090 - val_accuracy: 0.3376 - val_loss: 33099.9141\n",
      "Epoch 16/20\n",
      "\u001b[1m1050/1050\u001b[0m \u001b[32m━━━━━━━━━━━━━━━━━━━━\u001b[0m\u001b[37m\u001b[0m \u001b[1m16s\u001b[0m 15ms/step - accuracy: 0.2419 - loss: 24000.0078 - val_accuracy: 0.2457 - val_loss: 32008.0840\n",
      "Epoch 17/20\n",
      "\u001b[1m1050/1050\u001b[0m \u001b[32m━━━━━━━━━━━━━━━━━━━━\u001b[0m\u001b[37m\u001b[0m \u001b[1m16s\u001b[0m 15ms/step - accuracy: 0.2502 - loss: 31571.1270 - val_accuracy: 0.2576 - val_loss: 37903.3125\n",
      "Epoch 18/20\n",
      "\u001b[1m1050/1050\u001b[0m \u001b[32m━━━━━━━━━━━━━━━━━━━━\u001b[0m\u001b[37m\u001b[0m \u001b[1m16s\u001b[0m 15ms/step - accuracy: 0.2398 - loss: 43033.7617 - val_accuracy: 0.2119 - val_loss: 67521.8672\n",
      "Epoch 19/20\n",
      "\u001b[1m1050/1050\u001b[0m \u001b[32m━━━━━━━━━━━━━━━━━━━━\u001b[0m\u001b[37m\u001b[0m \u001b[1m16s\u001b[0m 15ms/step - accuracy: 0.2516 - loss: 55399.1211 - val_accuracy: 0.1626 - val_loss: 69209.2891\n",
      "Epoch 20/20\n",
      "\u001b[1m1050/1050\u001b[0m \u001b[32m━━━━━━━━━━━━━━━━━━━━\u001b[0m\u001b[37m\u001b[0m \u001b[1m16s\u001b[0m 15ms/step - accuracy: 0.2421 - loss: 71140.0625 - val_accuracy: 0.1629 - val_loss: 95595.5781\n",
      "\n",
      "The time to train a model with 5 Layers, 10 Neurons was 317.91 seconds.\n"
     ]
    }
   ],
   "source": [
    "model_3.compile(optimizer=Adam(0.001), loss='categorical_crossentropy', metrics=['accuracy']) # loss function for classification\n",
    "start_time = time.time()\n",
    "training_history_3 = model_3.fit(X_train, y_train, validation_data=(X_val, y_val), epochs=20, batch_size=32, verbose=1)# Train the model\n",
    "training_time_3 = time.time() - start_time\n",
    "print(f\"\\nThe time to train a model with 5 Layers, 10 Neurons was {training_time_3:.2f} seconds.\")\n"
   ]
  },
  {
   "cell_type": "code",
   "execution_count": 50,
   "metadata": {},
   "outputs": [],
   "source": [
    "test_loss_3, test_accuracy_3 = model_3.evaluate(X_test, y_test, verbose=0) # Evaluate the model on the test set"
   ]
  },
  {
   "cell_type": "code",
   "execution_count": 162,
   "metadata": {},
   "outputs": [
    {
     "data": {
      "text/plain": [
       "0.16357143223285675"
      ]
     },
     "execution_count": 162,
     "metadata": {},
     "output_type": "execute_result"
    }
   ],
   "source": [
    "test_accuracy_3"
   ]
  },
  {
   "cell_type": "code",
   "execution_count": 51,
   "metadata": {},
   "outputs": [
    {
     "name": "stdout",
     "output_type": "stream",
     "text": [
      "\u001b[1m132/132\u001b[0m \u001b[32m━━━━━━━━━━━━━━━━━━━━\u001b[0m\u001b[37m\u001b[0m \u001b[1m0s\u001b[0m 1ms/step\n",
      "\n",
      "Confusion Matrix for Model 3 (5 Layers, 10 Neurons):\n",
      " [[  1   0 200   0   0   1   0   3  28 180]\n",
      " [  4   0  49   0   0 211   0  40 138  26]\n",
      " [  4   0 320   0   0   1   0  15  30  48]\n",
      " [  4   0  50   0   0   1   0 184 122  74]\n",
      " [  0   0  96   0   0   0   0  31   5 275]\n",
      " [  1   0 123   0   0   3   0 190  34  29]\n",
      " [  2   0 140   0   0   1  29   8  14 220]\n",
      " [  2   0 289   0   0   1   0  89  19  40]\n",
      " [  6   0  84   0   0  16   0 106 128  66]\n",
      " [  2   0 144   0   0   3   0 131  22 117]]\n"
     ]
    }
   ],
   "source": [
    "predictions_3 = model_3.predict(X_test).argmax(axis=1) # Get the class with the highest probability\n",
    "actual_labels_3 = y_test.argmax(axis=1)\n",
    "conf_matrix_3 = confusion_matrix(actual_labels_3, predictions_3)\n",
    "\n",
    "print(f\"\\nConfusion Matrix for Model 3 (5 Layers, 10 Neurons):\\n\", conf_matrix_3)"
   ]
  },
  {
   "cell_type": "markdown",
   "metadata": {},
   "source": [
    "Model 04 - 5 Layers, 20 Neurons per Layer"
   ]
  },
  {
   "cell_type": "code",
   "execution_count": 52,
   "metadata": {},
   "outputs": [
    {
     "name": "stderr",
     "output_type": "stream",
     "text": [
      "/opt/homebrew/Caskroom/miniforge/base/envs/tf-mac/lib/python3.9/site-packages/keras/src/layers/reshaping/flatten.py:37: UserWarning: Do not pass an `input_shape`/`input_dim` argument to a layer. When using Sequential models, prefer using an `Input(shape)` object as the first layer in the model instead.\n",
      "  super().__init__(**kwargs)\n"
     ]
    }
   ],
   "source": [
    "model_4 = Sequential([\n",
    "    Flatten(input_shape=(784,)),  # 28x28 = 784\n",
    "    Dense(20, activation='relu'),  # Hidden Layer 1\n",
    "    Dense(20, activation='relu'),  # Hidden Layer 2\n",
    "    Dense(20, activation='relu'), # Hidden Layer 3\n",
    "    Dense(20, activation='relu'),  # Hidden Layer 4\n",
    "    Dense(20, activation='relu'),  # Hidden Layer 5\n",
    "    Dense(10, activation='softmax')  # Output Layer (10 classes)\n",
    "])"
   ]
  },
  {
   "cell_type": "code",
   "execution_count": 53,
   "metadata": {},
   "outputs": [
    {
     "name": "stdout",
     "output_type": "stream",
     "text": [
      "Epoch 1/20\n",
      "\u001b[1m1050/1050\u001b[0m \u001b[32m━━━━━━━━━━━━━━━━━━━━\u001b[0m\u001b[37m\u001b[0m \u001b[1m16s\u001b[0m 15ms/step - accuracy: 0.6048 - loss: 1.1693 - val_accuracy: 0.8105 - val_loss: 0.6714\n",
      "Epoch 2/20\n",
      "\u001b[1m1050/1050\u001b[0m \u001b[32m━━━━━━━━━━━━━━━━━━━━\u001b[0m\u001b[37m\u001b[0m \u001b[1m16s\u001b[0m 15ms/step - accuracy: 0.7101 - loss: 3.3674 - val_accuracy: 0.5424 - val_loss: 23.0529\n",
      "Epoch 3/20\n",
      "\u001b[1m1050/1050\u001b[0m \u001b[32m━━━━━━━━━━━━━━━━━━━━\u001b[0m\u001b[37m\u001b[0m \u001b[1m16s\u001b[0m 15ms/step - accuracy: 0.3951 - loss: 93.3263 - val_accuracy: 0.3569 - val_loss: 270.5226\n",
      "Epoch 4/20\n",
      "\u001b[1m1050/1050\u001b[0m \u001b[32m━━━━━━━━━━━━━━━━━━━━\u001b[0m\u001b[37m\u001b[0m \u001b[1m16s\u001b[0m 15ms/step - accuracy: 0.2937 - loss: 570.5767 - val_accuracy: 0.2474 - val_loss: 1199.0886\n",
      "Epoch 5/20\n",
      "\u001b[1m1050/1050\u001b[0m \u001b[32m━━━━━━━━━━━━━━━━━━━━\u001b[0m\u001b[37m\u001b[0m \u001b[1m16s\u001b[0m 15ms/step - accuracy: 0.2573 - loss: 2050.6077 - val_accuracy: 0.3048 - val_loss: 4262.9419\n",
      "Epoch 6/20\n",
      "\u001b[1m1050/1050\u001b[0m \u001b[32m━━━━━━━━━━━━━━━━━━━━\u001b[0m\u001b[37m\u001b[0m \u001b[1m16s\u001b[0m 15ms/step - accuracy: 0.2413 - loss: 4803.6680 - val_accuracy: 0.2700 - val_loss: 9607.4365\n",
      "Epoch 7/20\n",
      "\u001b[1m1050/1050\u001b[0m \u001b[32m━━━━━━━━━━━━━━━━━━━━\u001b[0m\u001b[37m\u001b[0m \u001b[1m16s\u001b[0m 15ms/step - accuracy: 0.2418 - loss: 9318.3057 - val_accuracy: 0.2133 - val_loss: 19903.7559\n",
      "Epoch 8/20\n",
      "\u001b[1m1050/1050\u001b[0m \u001b[32m━━━━━━━━━━━━━━━━━━━━\u001b[0m\u001b[37m\u001b[0m \u001b[1m16s\u001b[0m 15ms/step - accuracy: 0.2467 - loss: 18023.8242 - val_accuracy: 0.2774 - val_loss: 25026.4727\n",
      "Epoch 9/20\n",
      "\u001b[1m1050/1050\u001b[0m \u001b[32m━━━━━━━━━━━━━━━━━━━━\u001b[0m\u001b[37m\u001b[0m \u001b[1m16s\u001b[0m 15ms/step - accuracy: 0.2544 - loss: 29366.3262 - val_accuracy: 0.2319 - val_loss: 48046.5234\n",
      "Epoch 10/20\n",
      "\u001b[1m1050/1050\u001b[0m \u001b[32m━━━━━━━━━━━━━━━━━━━━\u001b[0m\u001b[37m\u001b[0m \u001b[1m16s\u001b[0m 15ms/step - accuracy: 0.2536 - loss: 50466.1992 - val_accuracy: 0.2574 - val_loss: 60517.7891\n",
      "Epoch 11/20\n",
      "\u001b[1m1050/1050\u001b[0m \u001b[32m━━━━━━━━━━━━━━━━━━━━\u001b[0m\u001b[37m\u001b[0m \u001b[1m16s\u001b[0m 15ms/step - accuracy: 0.2597 - loss: 76154.0938 - val_accuracy: 0.2390 - val_loss: 84596.0234\n",
      "Epoch 12/20\n",
      "\u001b[1m1050/1050\u001b[0m \u001b[32m━━━━━━━━━━━━━━━━━━━━\u001b[0m\u001b[37m\u001b[0m \u001b[1m16s\u001b[0m 15ms/step - accuracy: 0.2644 - loss: 102519.8438 - val_accuracy: 0.2840 - val_loss: 91915.5938\n",
      "Epoch 13/20\n",
      "\u001b[1m1050/1050\u001b[0m \u001b[32m━━━━━━━━━━━━━━━━━━━━\u001b[0m\u001b[37m\u001b[0m \u001b[1m16s\u001b[0m 15ms/step - accuracy: 0.2806 - loss: 130949.4609 - val_accuracy: 0.3660 - val_loss: 132130.2344\n",
      "Epoch 14/20\n",
      "\u001b[1m1050/1050\u001b[0m \u001b[32m━━━━━━━━━━━━━━━━━━━━\u001b[0m\u001b[37m\u001b[0m \u001b[1m16s\u001b[0m 15ms/step - accuracy: 0.2715 - loss: 190178.0312 - val_accuracy: 0.2431 - val_loss: 227839.5781\n",
      "Epoch 15/20\n",
      "\u001b[1m1050/1050\u001b[0m \u001b[32m━━━━━━━━━━━━━━━━━━━━\u001b[0m\u001b[37m\u001b[0m \u001b[1m16s\u001b[0m 15ms/step - accuracy: 0.2864 - loss: 240726.3906 - val_accuracy: 0.3217 - val_loss: 309166.9375\n",
      "Epoch 16/20\n",
      "\u001b[1m1050/1050\u001b[0m \u001b[32m━━━━━━━━━━━━━━━━━━━━\u001b[0m\u001b[37m\u001b[0m \u001b[1m16s\u001b[0m 15ms/step - accuracy: 0.2976 - loss: 334255.6875 - val_accuracy: 0.2652 - val_loss: 544841.0625\n",
      "Epoch 17/20\n",
      "\u001b[1m1050/1050\u001b[0m \u001b[32m━━━━━━━━━━━━━━━━━━━━\u001b[0m\u001b[37m\u001b[0m \u001b[1m16s\u001b[0m 15ms/step - accuracy: 0.2961 - loss: 441554.3438 - val_accuracy: 0.2262 - val_loss: 579577.2500\n",
      "Epoch 18/20\n",
      "\u001b[1m1050/1050\u001b[0m \u001b[32m━━━━━━━━━━━━━━━━━━━━\u001b[0m\u001b[37m\u001b[0m \u001b[1m16s\u001b[0m 15ms/step - accuracy: 0.3022 - loss: 533608.6875 - val_accuracy: 0.3593 - val_loss: 413513.6250\n",
      "Epoch 19/20\n",
      "\u001b[1m1050/1050\u001b[0m \u001b[32m━━━━━━━━━━━━━━━━━━━━\u001b[0m\u001b[37m\u001b[0m \u001b[1m16s\u001b[0m 15ms/step - accuracy: 0.3069 - loss: 658860.4375 - val_accuracy: 0.2769 - val_loss: 902050.1875\n",
      "Epoch 20/20\n",
      "\u001b[1m1050/1050\u001b[0m \u001b[32m━━━━━━━━━━━━━━━━━━━━\u001b[0m\u001b[37m\u001b[0m \u001b[1m16s\u001b[0m 15ms/step - accuracy: 0.3169 - loss: 774622.9375 - val_accuracy: 0.3193 - val_loss: 933933.5625\n",
      "\n",
      "The time to train a model with 5 Layers, 20 Neurons was 319.03 seconds.\n"
     ]
    }
   ],
   "source": [
    "model_4.compile(optimizer=Adam(0.001), loss='categorical_crossentropy', metrics=['accuracy']) # loss function for classification\n",
    "start_time = time.time()\n",
    "training_history_4 = model_4.fit(X_train, y_train, validation_data=(X_val, y_val), epochs=20, batch_size=32, verbose=1) # Train the model\n",
    "training_time_4 = time.time() - start_time\n",
    "print(f\"\\nThe time to train a model with 5 Layers, 20 Neurons was {training_time_4:.2f} seconds.\")# Evaluate the model on the test set"
   ]
  },
  {
   "cell_type": "code",
   "execution_count": 54,
   "metadata": {},
   "outputs": [],
   "source": [
    "test_loss_4, test_accuracy_4 = model_4.evaluate(X_test, y_test, verbose=0)# Get the class with the highest probability"
   ]
  },
  {
   "cell_type": "code",
   "execution_count": 163,
   "metadata": {},
   "outputs": [
    {
     "data": {
      "text/plain": [
       "0.31404760479927063"
      ]
     },
     "execution_count": 163,
     "metadata": {},
     "output_type": "execute_result"
    }
   ],
   "source": [
    "test_accuracy_4"
   ]
  },
  {
   "cell_type": "code",
   "execution_count": 55,
   "metadata": {},
   "outputs": [
    {
     "name": "stdout",
     "output_type": "stream",
     "text": [
      "\u001b[1m132/132\u001b[0m \u001b[32m━━━━━━━━━━━━━━━━━━━━\u001b[0m\u001b[37m\u001b[0m \u001b[1m0s\u001b[0m 2ms/step\n",
      "\n",
      "Confusion Matrix for Model 4 (5 Layers, 20 Neurons):\n",
      " [[121   7  51   2   0  36  15   0  24 157]\n",
      " [  0 162   0  73   0   1 163   0   3  66]\n",
      " [  1 120 200  41   0   0  33   0   5  18]\n",
      " [  0  94   7 146   0   2   0   0  47 139]\n",
      " [  5  34  10  20   0   4   3   0 114 217]\n",
      " [  0  34  10   6   0  15   9   0 248  58]\n",
      " [ 28   9  51   3   0 133 103   0  73  14]\n",
      " [103  31  81  16   0   0  23   0   2 184]\n",
      " [  0  89   2   5   0  13   8   0 278  11]\n",
      " [  1  33  17  18   0   0   1   0  55 294]]\n"
     ]
    }
   ],
   "source": [
    "predictions_4 = model_4.predict(X_test).argmax(axis=1) # Get the class with the highest probability\n",
    "actual_labels_4 = y_test.argmax(axis=1)\n",
    "conf_matrix_4 = confusion_matrix(actual_labels_4, predictions_4)\n",
    "\n",
    "print(f\"\\nConfusion Matrix for Model 4 (5 Layers, 20 Neurons):\\n\", conf_matrix_4)"
   ]
  },
  {
   "cell_type": "markdown",
   "metadata": {},
   "source": [
    "### PART 14 Model Hypertuning "
   ]
  },
  {
   "cell_type": "markdown",
   "metadata": {},
   "source": [
    "Model 01 - 2 Layers, 10 Neurons per Layer"
   ]
  },
  {
   "cell_type": "code",
   "execution_count": null,
   "metadata": {},
   "outputs": [],
   "source": [
    "learning_rate_r01 = 0.001    # Learning rate\n",
    "batch_size_r01 = 32     # Number of samples per batch    \n",
    "epochsr01 = 20      # Number of passes through the data      \n",
    "optimizerr01 = Adam(learning_rate=learning_rate_r01)  "
   ]
  },
  {
   "cell_type": "code",
   "execution_count": 57,
   "metadata": {},
   "outputs": [
    {
     "name": "stderr",
     "output_type": "stream",
     "text": [
      "/opt/homebrew/Caskroom/miniforge/base/envs/tf-mac/lib/python3.9/site-packages/keras/src/layers/reshaping/flatten.py:37: UserWarning: Do not pass an `input_shape`/`input_dim` argument to a layer. When using Sequential models, prefer using an `Input(shape)` object as the first layer in the model instead.\n",
      "  super().__init__(**kwargs)\n"
     ]
    }
   ],
   "source": [
    "model_01_revised = Sequential([\n",
    "    Flatten(input_shape=(784,)),  # 28x28 = 784\n",
    "    Dense(10, activation='relu'),# Hidden Layer 1\n",
    "    Dense(10, activation='softmax')# Output Layer (10 classes)\n",
    "])"
   ]
  },
  {
   "cell_type": "code",
   "execution_count": 58,
   "metadata": {},
   "outputs": [
    {
     "name": "stdout",
     "output_type": "stream",
     "text": [
      "Epoch 1/20\n",
      "\u001b[1m1050/1050\u001b[0m \u001b[32m━━━━━━━━━━━━━━━━━━━━\u001b[0m\u001b[37m\u001b[0m \u001b[1m10s\u001b[0m 9ms/step - accuracy: 0.6709 - loss: 1.1032 - val_accuracy: 0.8971 - val_loss: 0.3646\n",
      "Epoch 2/20\n",
      "\u001b[1m1050/1050\u001b[0m \u001b[32m━━━━━━━━━━━━━━━━━━━━\u001b[0m\u001b[37m\u001b[0m \u001b[1m10s\u001b[0m 9ms/step - accuracy: 0.9061 - loss: 0.3369 - val_accuracy: 0.9014 - val_loss: 0.3338\n",
      "Epoch 3/20\n",
      "\u001b[1m1050/1050\u001b[0m \u001b[32m━━━━━━━━━━━━━━━━━━━━\u001b[0m\u001b[37m\u001b[0m \u001b[1m9s\u001b[0m 9ms/step - accuracy: 0.9120 - loss: 0.3175 - val_accuracy: 0.9071 - val_loss: 0.3200\n",
      "Epoch 4/20\n",
      "\u001b[1m1050/1050\u001b[0m \u001b[32m━━━━━━━━━━━━━━━━━━━━\u001b[0m\u001b[37m\u001b[0m \u001b[1m9s\u001b[0m 9ms/step - accuracy: 0.9145 - loss: 0.2992 - val_accuracy: 0.9090 - val_loss: 0.3301\n",
      "Epoch 5/20\n",
      "\u001b[1m1050/1050\u001b[0m \u001b[32m━━━━━━━━━━━━━━━━━━━━\u001b[0m\u001b[37m\u001b[0m \u001b[1m9s\u001b[0m 9ms/step - accuracy: 0.9178 - loss: 0.2929 - val_accuracy: 0.9081 - val_loss: 0.3168\n",
      "Epoch 6/20\n",
      "\u001b[1m1050/1050\u001b[0m \u001b[32m━━━━━━━━━━━━━━━━━━━━\u001b[0m\u001b[37m\u001b[0m \u001b[1m9s\u001b[0m 9ms/step - accuracy: 0.9164 - loss: 0.2943 - val_accuracy: 0.9095 - val_loss: 0.3214\n",
      "Epoch 7/20\n",
      "\u001b[1m1050/1050\u001b[0m \u001b[32m━━━━━━━━━━━━━━━━━━━━\u001b[0m\u001b[37m\u001b[0m \u001b[1m9s\u001b[0m 9ms/step - accuracy: 0.9204 - loss: 0.2825 - val_accuracy: 0.9048 - val_loss: 0.3310\n",
      "Epoch 8/20\n",
      "\u001b[1m1050/1050\u001b[0m \u001b[32m━━━━━━━━━━━━━━━━━━━━\u001b[0m\u001b[37m\u001b[0m \u001b[1m10s\u001b[0m 9ms/step - accuracy: 0.9177 - loss: 0.2922 - val_accuracy: 0.9048 - val_loss: 0.3319\n",
      "Epoch 9/20\n",
      "\u001b[1m1050/1050\u001b[0m \u001b[32m━━━━━━━━━━━━━━━━━━━━\u001b[0m\u001b[37m\u001b[0m \u001b[1m10s\u001b[0m 9ms/step - accuracy: 0.9175 - loss: 0.2901 - val_accuracy: 0.9050 - val_loss: 0.3271\n",
      "Epoch 10/20\n",
      "\u001b[1m1050/1050\u001b[0m \u001b[32m━━━━━━━━━━━━━━━━━━━━\u001b[0m\u001b[37m\u001b[0m \u001b[1m10s\u001b[0m 9ms/step - accuracy: 0.9177 - loss: 0.2883 - val_accuracy: 0.9040 - val_loss: 0.3379\n",
      "Epoch 11/20\n",
      "\u001b[1m1050/1050\u001b[0m \u001b[32m━━━━━━━━━━━━━━━━━━━━\u001b[0m\u001b[37m\u001b[0m \u001b[1m10s\u001b[0m 9ms/step - accuracy: 0.9156 - loss: 0.2935 - val_accuracy: 0.9036 - val_loss: 0.3343\n",
      "Epoch 12/20\n",
      "\u001b[1m1050/1050\u001b[0m \u001b[32m━━━━━━━━━━━━━━━━━━━━\u001b[0m\u001b[37m\u001b[0m \u001b[1m10s\u001b[0m 9ms/step - accuracy: 0.9137 - loss: 0.3028 - val_accuracy: 0.9014 - val_loss: 0.3365\n",
      "Epoch 13/20\n",
      "\u001b[1m1050/1050\u001b[0m \u001b[32m━━━━━━━━━━━━━━━━━━━━\u001b[0m\u001b[37m\u001b[0m \u001b[1m10s\u001b[0m 9ms/step - accuracy: 0.9143 - loss: 0.2965 - val_accuracy: 0.9067 - val_loss: 0.3365\n",
      "Epoch 14/20\n",
      "\u001b[1m1050/1050\u001b[0m \u001b[32m━━━━━━━━━━━━━━━━━━━━\u001b[0m\u001b[37m\u001b[0m \u001b[1m10s\u001b[0m 9ms/step - accuracy: 0.9164 - loss: 0.2968 - val_accuracy: 0.9021 - val_loss: 0.3414\n",
      "Epoch 15/20\n",
      "\u001b[1m1050/1050\u001b[0m \u001b[32m━━━━━━━━━━━━━━━━━━━━\u001b[0m\u001b[37m\u001b[0m \u001b[1m10s\u001b[0m 9ms/step - accuracy: 0.9157 - loss: 0.2923 - val_accuracy: 0.9076 - val_loss: 0.3403\n",
      "Epoch 16/20\n",
      "\u001b[1m1050/1050\u001b[0m \u001b[32m━━━━━━━━━━━━━━━━━━━━\u001b[0m\u001b[37m\u001b[0m \u001b[1m10s\u001b[0m 9ms/step - accuracy: 0.9159 - loss: 0.2934 - val_accuracy: 0.8976 - val_loss: 0.3544\n",
      "Epoch 17/20\n",
      "\u001b[1m1050/1050\u001b[0m \u001b[32m━━━━━━━━━━━━━━━━━━━━\u001b[0m\u001b[37m\u001b[0m \u001b[1m10s\u001b[0m 9ms/step - accuracy: 0.9152 - loss: 0.2910 - val_accuracy: 0.9019 - val_loss: 0.3464\n",
      "Epoch 18/20\n",
      "\u001b[1m1050/1050\u001b[0m \u001b[32m━━━━━━━━━━━━━━━━━━━━\u001b[0m\u001b[37m\u001b[0m \u001b[1m10s\u001b[0m 9ms/step - accuracy: 0.9119 - loss: 0.3059 - val_accuracy: 0.9069 - val_loss: 0.3461\n",
      "Epoch 19/20\n",
      "\u001b[1m1050/1050\u001b[0m \u001b[32m━━━━━━━━━━━━━━━━━━━━\u001b[0m\u001b[37m\u001b[0m \u001b[1m10s\u001b[0m 9ms/step - accuracy: 0.9157 - loss: 0.2987 - val_accuracy: 0.9014 - val_loss: 0.3537\n",
      "Epoch 20/20\n",
      "\u001b[1m1050/1050\u001b[0m \u001b[32m━━━━━━━━━━━━━━━━━━━━\u001b[0m\u001b[37m\u001b[0m \u001b[1m10s\u001b[0m 9ms/step - accuracy: 0.9094 - loss: 0.3081 - val_accuracy: 0.9057 - val_loss: 0.3474\n"
     ]
    }
   ],
   "source": [
    "\n",
    "model_01_revised.compile(optimizer=optimizerr01, loss='categorical_crossentropy', metrics=['accuracy']) # loss function for classification\n",
    "\n",
    "start_time = time.time()\n",
    "\n",
    "training_history_01_revised = model_01_revised.fit(X_train, y_train, validation_data=(X_val, y_val), epochs=epochsr01, batch_size=batch_size_r01, verbose=1)# Train the model\n",
    "\n",
    "training_time_01_revised = time.time() - start_time"
   ]
  },
  {
   "cell_type": "code",
   "execution_count": 60,
   "metadata": {},
   "outputs": [
    {
     "name": "stdout",
     "output_type": "stream",
     "text": [
      "\\ Training Time for Revised Model 1 (LR=0.001, Batch=32, Epochs=20, Optimizer=Adam): 192.00 seconds.\n"
     ]
    }
   ],
   "source": [
    "print(f\"\\ Training Time for Revised Model 1 (LR={learning_rate_r01}, Batch={batch_size_r01}, Epochs={epochsr01}, Optimizer=Adam): {training_time_01_revised:.2f} seconds.\") \n"
   ]
  },
  {
   "cell_type": "markdown",
   "metadata": {},
   "source": [
    "Model 02 - 2 Layers, 20 Neurons per Layer"
   ]
  },
  {
   "cell_type": "code",
   "execution_count": 61,
   "metadata": {},
   "outputs": [],
   "source": [
    "learning_rate_rmodel02 = 0.001  # Learning rate\n",
    "optimizer_rmodel02 = Adam(learning_rate=learning_rate_rmodel02)  # Optimizer\n",
    "batch_size_rmodel02 = 32  # Number of samples per batch\n",
    "epochs_rmodel02 = 10  # Number of passes through the data"
   ]
  },
  {
   "cell_type": "code",
   "execution_count": 62,
   "metadata": {},
   "outputs": [],
   "source": [
    "revisedmodel_02 = Sequential([\n",
    "    Flatten(input_shape=(784,)),  # Input layer (1)\n",
    "    Dense(20, activation='relu'),  # First hidden layer\n",
    "    Dense(20, activation='relu'),  # Second hidden layer\n",
    "    Dense(10, activation='softmax') # Output layer (10 neurons for 10 classes)\n",
    "])"
   ]
  },
  {
   "cell_type": "code",
   "execution_count": 63,
   "metadata": {},
   "outputs": [
    {
     "name": "stdout",
     "output_type": "stream",
     "text": [
      "Epoch 1/10\n",
      "\u001b[1m1050/1050\u001b[0m \u001b[32m━━━━━━━━━━━━━━━━━━━━\u001b[0m\u001b[37m\u001b[0m \u001b[1m12s\u001b[0m 11ms/step - accuracy: 0.7005 - loss: 0.9410 - val_accuracy: 0.9012 - val_loss: 0.3494\n",
      "Epoch 2/10\n",
      "\u001b[1m1050/1050\u001b[0m \u001b[32m━━━━━━━━━━━━━━━━━━━━\u001b[0m\u001b[37m\u001b[0m \u001b[1m11s\u001b[0m 11ms/step - accuracy: 0.9135 - loss: 0.3135 - val_accuracy: 0.9064 - val_loss: 0.3380\n",
      "Epoch 3/10\n",
      "\u001b[1m1050/1050\u001b[0m \u001b[32m━━━━━━━━━━━━━━━━━━━━\u001b[0m\u001b[37m\u001b[0m \u001b[1m12s\u001b[0m 11ms/step - accuracy: 0.9178 - loss: 0.2968 - val_accuracy: 0.9095 - val_loss: 0.3366\n",
      "Epoch 4/10\n",
      "\u001b[1m1050/1050\u001b[0m \u001b[32m━━━━━━━━━━━━━━━━━━━━\u001b[0m\u001b[37m\u001b[0m \u001b[1m11s\u001b[0m 11ms/step - accuracy: 0.9162 - loss: 0.3083 - val_accuracy: 0.8967 - val_loss: 0.3894\n",
      "Epoch 5/10\n",
      "\u001b[1m1050/1050\u001b[0m \u001b[32m━━━━━━━━━━━━━━━━━━━━\u001b[0m\u001b[37m\u001b[0m \u001b[1m11s\u001b[0m 11ms/step - accuracy: 0.9121 - loss: 0.3146 - val_accuracy: 0.8976 - val_loss: 0.3815\n",
      "Epoch 6/10\n",
      "\u001b[1m1050/1050\u001b[0m \u001b[32m━━━━━━━━━━━━━━━━━━━━\u001b[0m\u001b[37m\u001b[0m \u001b[1m11s\u001b[0m 11ms/step - accuracy: 0.9076 - loss: 0.3281 - val_accuracy: 0.8900 - val_loss: 0.4290\n",
      "Epoch 7/10\n",
      "\u001b[1m1050/1050\u001b[0m \u001b[32m━━━━━━━━━━━━━━━━━━━━\u001b[0m\u001b[37m\u001b[0m \u001b[1m11s\u001b[0m 11ms/step - accuracy: 0.8998 - loss: 0.3630 - val_accuracy: 0.8976 - val_loss: 0.4151\n",
      "Epoch 8/10\n",
      "\u001b[1m1050/1050\u001b[0m \u001b[32m━━━━━━━━━━━━━━━━━━━━\u001b[0m\u001b[37m\u001b[0m \u001b[1m11s\u001b[0m 11ms/step - accuracy: 0.8930 - loss: 0.4191 - val_accuracy: 0.8657 - val_loss: 0.5427\n",
      "Epoch 9/10\n",
      "\u001b[1m1050/1050\u001b[0m \u001b[32m━━━━━━━━━━━━━━━━━━━━\u001b[0m\u001b[37m\u001b[0m \u001b[1m11s\u001b[0m 11ms/step - accuracy: 0.8835 - loss: 0.4712 - val_accuracy: 0.8605 - val_loss: 0.5853\n",
      "Epoch 10/10\n",
      "\u001b[1m1050/1050\u001b[0m \u001b[32m━━━━━━━━━━━━━━━━━━━━\u001b[0m\u001b[37m\u001b[0m \u001b[1m11s\u001b[0m 11ms/step - accuracy: 0.8796 - loss: 0.5044 - val_accuracy: 0.8774 - val_loss: 0.5525\n",
      "\n",
      "The time to train Model 02 (2 Layers, 20 Neurons) was 113.17 seconds.\n"
     ]
    }
   ],
   "source": [
    "revisedmodel_02.compile(optimizer=optimizer_rmodel02, loss='categorical_crossentropy', metrics=['accuracy']) # loss function for classification\n",
    "\n",
    "start_time_02 = time.time()\n",
    "training_history_02 = revisedmodel_02.fit(X_train, y_train,validation_data=(X_val, y_val),epochs=epochs_rmodel02,batch_size=batch_size_rmodel02,verbose=1)\n",
    "training_time_02 = time.time() - start_time_02\n",
    "\n",
    "print(f\"\\nThe time to train Model 02 (2 Layers, 20 Neurons) was {training_time_02:.2f} seconds.\")"
   ]
  },
  {
   "cell_type": "code",
   "execution_count": 64,
   "metadata": {},
   "outputs": [],
   "source": [
    "test_loss_r02, test_accuracy_r02 = revisedmodel_02.evaluate(X_test, y_test, verbose=0)"
   ]
  },
  {
   "cell_type": "code",
   "execution_count": 166,
   "metadata": {},
   "outputs": [
    {
     "data": {
      "text/plain": [
       "0.883571445941925"
      ]
     },
     "execution_count": 166,
     "metadata": {},
     "output_type": "execute_result"
    }
   ],
   "source": [
    "test_accuracy_r02"
   ]
  },
  {
   "cell_type": "markdown",
   "metadata": {},
   "source": [
    "Model 03 -  5 Layers, 10 Neurons per Layer"
   ]
  },
  {
   "cell_type": "code",
   "execution_count": 65,
   "metadata": {},
   "outputs": [],
   "source": [
    "learning_rate_r03 = 0.0005  # Learning rate\n",
    "optimizer_r03 = SGD(learning_rate=learning_rate_r03)  # Optimizer\n",
    "batch_size_r03 = 32  # Number of samples per batch\n",
    "epochs_r03 = 10  # Number of passes through the data\n"
   ]
  },
  {
   "cell_type": "code",
   "execution_count": 66,
   "metadata": {},
   "outputs": [],
   "source": [
    "revised_model_03 = Sequential([\n",
    "    Flatten(input_shape=(784,)),  # Input layer (1)\n",
    "    Dense(10, activation='relu'),  # First hidden layer\n",
    "    Dense(10, activation='relu'), # Second hidden layer\n",
    "    Dense(10, activation='relu'),  # Third hidden layer\n",
    "    Dense(10, activation='relu'),  # Fourth hidden layer\n",
    "    Dense(10, activation='relu'),  # Fifth hidden layer\n",
    "    Dense(10, activation='softmax')  # Output layer (10 neurons for 10 classes)\n",
    "])\n"
   ]
  },
  {
   "cell_type": "code",
   "execution_count": 67,
   "metadata": {},
   "outputs": [
    {
     "name": "stdout",
     "output_type": "stream",
     "text": [
      "Epoch 1/10\n",
      "\u001b[1m1050/1050\u001b[0m \u001b[32m━━━━━━━━━━━━━━━━━━━━\u001b[0m\u001b[37m\u001b[0m \u001b[1m9s\u001b[0m 8ms/step - accuracy: 0.1386 - loss: 2.2474 - val_accuracy: 0.1395 - val_loss: 2.2271\n",
      "Epoch 2/10\n",
      "\u001b[1m1050/1050\u001b[0m \u001b[32m━━━━━━━━━━━━━━━━━━━━\u001b[0m\u001b[37m\u001b[0m \u001b[1m8s\u001b[0m 8ms/step - accuracy: 0.1378 - loss: 2.2188 - val_accuracy: 0.1617 - val_loss: 2.1975\n",
      "Epoch 3/10\n",
      "\u001b[1m1050/1050\u001b[0m \u001b[32m━━━━━━━━━━━━━━━━━━━━\u001b[0m\u001b[37m\u001b[0m \u001b[1m9s\u001b[0m 8ms/step - accuracy: 0.1601 - loss: 2.1908 - val_accuracy: 0.1852 - val_loss: 2.1569\n",
      "Epoch 4/10\n",
      "\u001b[1m1050/1050\u001b[0m \u001b[32m━━━━━━━━━━━━━━━━━━━━\u001b[0m\u001b[37m\u001b[0m \u001b[1m8s\u001b[0m 8ms/step - accuracy: 0.1807 - loss: 2.1466 - val_accuracy: 0.2131 - val_loss: 2.1050\n",
      "Epoch 5/10\n",
      "\u001b[1m1050/1050\u001b[0m \u001b[32m━━━━━━━━━━━━━━━━━━━━\u001b[0m\u001b[37m\u001b[0m \u001b[1m8s\u001b[0m 8ms/step - accuracy: 0.2295 - loss: 2.0870 - val_accuracy: 0.2893 - val_loss: 2.0443\n",
      "Epoch 6/10\n",
      "\u001b[1m1050/1050\u001b[0m \u001b[32m━━━━━━━━━━━━━━━━━━━━\u001b[0m\u001b[37m\u001b[0m \u001b[1m8s\u001b[0m 8ms/step - accuracy: 0.3043 - loss: 2.0291 - val_accuracy: 0.3455 - val_loss: 1.9711\n",
      "Epoch 7/10\n",
      "\u001b[1m1050/1050\u001b[0m \u001b[32m━━━━━━━━━━━━━━━━━━━━\u001b[0m\u001b[37m\u001b[0m \u001b[1m8s\u001b[0m 8ms/step - accuracy: 0.3644 - loss: 1.9439 - val_accuracy: 0.3733 - val_loss: 1.8934\n",
      "Epoch 8/10\n",
      "\u001b[1m1050/1050\u001b[0m \u001b[32m━━━━━━━━━━━━━━━━━━━━\u001b[0m\u001b[37m\u001b[0m \u001b[1m9s\u001b[0m 8ms/step - accuracy: 0.3792 - loss: 1.8746 - val_accuracy: 0.3824 - val_loss: 1.8130\n",
      "Epoch 9/10\n",
      "\u001b[1m1050/1050\u001b[0m \u001b[32m━━━━━━━━━━━━━━━━━━━━\u001b[0m\u001b[37m\u001b[0m \u001b[1m9s\u001b[0m 8ms/step - accuracy: 0.3849 - loss: 1.8033 - val_accuracy: 0.3990 - val_loss: 1.7415\n",
      "Epoch 10/10\n",
      "\u001b[1m1050/1050\u001b[0m \u001b[32m━━━━━━━━━━━━━━━━━━━━\u001b[0m\u001b[37m\u001b[0m \u001b[1m9s\u001b[0m 8ms/step - accuracy: 0.4082 - loss: 1.7273 - val_accuracy: 0.4171 - val_loss: 1.6872\n",
      "\n",
      "The time to train Model 03 (5 Layers, 10 Neurons) was 84.69 seconds.\n"
     ]
    }
   ],
   "source": [
    "revised_model_03.compile(optimizer=optimizer_r03, loss='categorical_crossentropy', metrics=['accuracy'])\n",
    "start_time_03 = time.time()\n",
    "training_history_03 = revised_model_03.fit(X_train, y_train, validation_data=(X_val, y_val),epochs=epochs_r03,batch_size=batch_size_r03,verbose=1)\n",
    "training_time_03 = time.time() - start_time_03\n",
    "print(f\"\\nThe time to train Model 03 (5 Layers, 10 Neurons) was {training_time_03:.2f} seconds.\")\n"
   ]
  },
  {
   "cell_type": "code",
   "execution_count": 68,
   "metadata": {},
   "outputs": [],
   "source": [
    "test_loss_03, test_accuracy_03 = revised_model_03.evaluate(X_test, y_test, verbose=0)\n"
   ]
  },
  {
   "cell_type": "markdown",
   "metadata": {},
   "source": [
    "Model 04 - 5 Layers, 20 Neurons per Layer"
   ]
  },
  {
   "cell_type": "code",
   "execution_count": 69,
   "metadata": {},
   "outputs": [],
   "source": [
    "learning_rate_r04 = 0.0005  # learning rate \n",
    "optimizer_r04 = Adam(learning_rate=learning_rate_r04) # optimizer\n",
    "batch_size_r04 = 32  # Number of samples per batch\n",
    "epochs_r04 = 10  # Number of passes through the data"
   ]
  },
  {
   "cell_type": "code",
   "execution_count": 70,
   "metadata": {},
   "outputs": [],
   "source": [
    "revised_model_04 = Sequential([\n",
    "    Flatten(input_shape=(784,)),  #  # Input layer (1)\n",
    "    Dense(20, activation='relu'),  # First hidden layer\n",
    "    Dense(20, activation='relu'),  # Second hidden layer\n",
    "    Dense(20, activation='relu'),  # Third hidden layer\n",
    "    Dense(20, activation='relu'),  # Fourth hidden layer\n",
    "    Dense(20, activation='relu'),  # Fifth hidden layer\n",
    "    Dense(10, activation='softmax')  # Output layer (10 classes)\n",
    "])\n"
   ]
  },
  {
   "cell_type": "code",
   "execution_count": 71,
   "metadata": {},
   "outputs": [
    {
     "name": "stdout",
     "output_type": "stream",
     "text": [
      "Epoch 1/10\n",
      "\u001b[1m1050/1050\u001b[0m \u001b[32m━━━━━━━━━━━━━━━━━━━━\u001b[0m\u001b[37m\u001b[0m \u001b[1m16s\u001b[0m 15ms/step - accuracy: 0.5037 - loss: 1.3480 - val_accuracy: 0.8162 - val_loss: 0.5968\n",
      "Epoch 2/10\n",
      "\u001b[1m1050/1050\u001b[0m \u001b[32m━━━━━━━━━━━━━━━━━━━━\u001b[0m\u001b[37m\u001b[0m \u001b[1m16s\u001b[0m 15ms/step - accuracy: 0.8335 - loss: 0.5701 - val_accuracy: 0.8514 - val_loss: 0.5186\n",
      "Epoch 3/10\n",
      "\u001b[1m1050/1050\u001b[0m \u001b[32m━━━━━━━━━━━━━━━━━━━━\u001b[0m\u001b[37m\u001b[0m \u001b[1m16s\u001b[0m 15ms/step - accuracy: 0.8316 - loss: 0.6494 - val_accuracy: 0.6179 - val_loss: 2.4701\n",
      "Epoch 4/10\n",
      "\u001b[1m1050/1050\u001b[0m \u001b[32m━━━━━━━━━━━━━━━━━━━━\u001b[0m\u001b[37m\u001b[0m \u001b[1m16s\u001b[0m 15ms/step - accuracy: 0.5982 - loss: 5.6131 - val_accuracy: 0.4874 - val_loss: 19.3543\n",
      "Epoch 5/10\n",
      "\u001b[1m1050/1050\u001b[0m \u001b[32m━━━━━━━━━━━━━━━━━━━━\u001b[0m\u001b[37m\u001b[0m \u001b[1m16s\u001b[0m 15ms/step - accuracy: 0.4236 - loss: 31.3869 - val_accuracy: 0.3526 - val_loss: 77.5080\n",
      "Epoch 6/10\n",
      "\u001b[1m1050/1050\u001b[0m \u001b[32m━━━━━━━━━━━━━━━━━━━━\u001b[0m\u001b[37m\u001b[0m \u001b[1m16s\u001b[0m 15ms/step - accuracy: 0.3180 - loss: 103.1307 - val_accuracy: 0.2569 - val_loss: 215.7889\n",
      "Epoch 7/10\n",
      "\u001b[1m1050/1050\u001b[0m \u001b[32m━━━━━━━━━━━━━━━━━━━━\u001b[0m\u001b[37m\u001b[0m \u001b[1m16s\u001b[0m 16ms/step - accuracy: 0.2822 - loss: 230.9096 - val_accuracy: 0.3619 - val_loss: 265.1410\n",
      "Epoch 8/10\n",
      "\u001b[1m1050/1050\u001b[0m \u001b[32m━━━━━━━━━━━━━━━━━━━━\u001b[0m\u001b[37m\u001b[0m \u001b[1m16s\u001b[0m 15ms/step - accuracy: 0.2533 - loss: 479.3689 - val_accuracy: 0.3629 - val_loss: 859.5693\n",
      "Epoch 9/10\n",
      "\u001b[1m1050/1050\u001b[0m \u001b[32m━━━━━━━━━━━━━━━━━━━━\u001b[0m\u001b[37m\u001b[0m \u001b[1m16s\u001b[0m 15ms/step - accuracy: 0.2293 - loss: 978.5353 - val_accuracy: 0.2321 - val_loss: 1024.0922\n",
      "Epoch 10/10\n",
      "\u001b[1m1050/1050\u001b[0m \u001b[32m━━━━━━━━━━━━━━━━━━━━\u001b[0m\u001b[37m\u001b[0m \u001b[1m16s\u001b[0m 15ms/step - accuracy: 0.2159 - loss: 1590.6659 - val_accuracy: 0.2414 - val_loss: 1632.4904\n",
      "\n",
      "The time to train Model 04 (5 Layers, 20 Neurons) was 160.66 seconds.\n"
     ]
    }
   ],
   "source": [
    "revised_model_04.compile(optimizer=optimizer_r04, loss='categorical_crossentropy', metrics=['accuracy'])\n",
    "start_time_04 = time.time()\n",
    "training_history_04 = revised_model_04.fit(X_train, y_train,validation_data=(X_val, y_val),epochs=epochs_r04,batch_size=batch_size_r04,verbose=1)\n",
    "training_time_04 = time.time() - start_time_04\n",
    "\n",
    "print(f\"\\nThe time to train Model 04 (5 Layers, 20 Neurons) was {training_time_04:.2f} seconds.\")\n"
   ]
  },
  {
   "cell_type": "code",
   "execution_count": 72,
   "metadata": {},
   "outputs": [],
   "source": [
    "test_loss_04, test_accuracy_04 = revised_model_04.evaluate(X_test, y_test, verbose=0)"
   ]
  },
  {
   "cell_type": "code",
   "execution_count": 73,
   "metadata": {},
   "outputs": [
    {
     "name": "stdout",
     "output_type": "stream",
     "text": [
      "\n",
      "Model 04 - Test Accuracy: 0.2295\n"
     ]
    }
   ],
   "source": [
    "print(f\"\\nModel 04 - Test Accuracy: {test_accuracy_04:.4f}\")\n"
   ]
  },
  {
   "cell_type": "markdown",
   "metadata": {},
   "source": [
    "### PART 15 Model Testing  "
   ]
  },
  {
   "cell_type": "markdown",
   "metadata": {},
   "source": [
    "Model 01 - 2 Layers, 10 Neurons per Layer"
   ]
  },
  {
   "cell_type": "code",
   "execution_count": 75,
   "metadata": {},
   "outputs": [],
   "source": [
    "test_lossr01, test_accuracyr01 = model_01_revised.evaluate(X_test, y_test, verbose=0) # Evaluate the model on the test set"
   ]
  },
  {
   "cell_type": "code",
   "execution_count": 76,
   "metadata": {},
   "outputs": [
    {
     "name": "stdout",
     "output_type": "stream",
     "text": [
      "\n",
      "Model 01 - Test Loss: 0.3394\n",
      "Model 01 - Test Accuracy: 0.9033\n"
     ]
    }
   ],
   "source": [
    "print(f\"\\nModel 01 - Test Loss: {test_lossr01:.4f}\")\n",
    "print(f\"Model 01 - Test Accuracy: {test_accuracyr01:.4f}\")"
   ]
  },
  {
   "cell_type": "code",
   "execution_count": 77,
   "metadata": {},
   "outputs": [
    {
     "name": "stdout",
     "output_type": "stream",
     "text": [
      "\u001b[1m132/132\u001b[0m \u001b[32m━━━━━━━━━━━━━━━━━━━━\u001b[0m\u001b[37m\u001b[0m \u001b[1m0s\u001b[0m 1ms/step\n"
     ]
    },
    {
     "data": {
      "text/plain": [
       "array([[394,   0,   1,   0,   2,   4,  11,   1,   0,   0],\n",
       "       [  0, 454,   4,   5,   0,   0,   0,   0,   5,   0],\n",
       "       [  2,   7, 365,  11,   5,   3,  12,   5,   7,   1],\n",
       "       [  4,   1,  13, 386,   0,  13,   4,   5,   5,   4],\n",
       "       [  0,   3,   3,   0, 367,   3,   4,   3,   3,  21],\n",
       "       [  5,   3,   5,  21,   7, 312,   6,   0,  14,   7],\n",
       "       [  4,   2,   4,   0,   1,   5, 398,   0,   0,   0],\n",
       "       [  1,   4,   3,   1,   6,   1,   1, 407,   0,  16],\n",
       "       [  5,  12,   3,  18,   2,  15,   4,   1, 342,   4],\n",
       "       [  1,   2,   1,   4,  18,   2,   0,  17,   5, 369]])"
      ]
     },
     "execution_count": 77,
     "metadata": {},
     "output_type": "execute_result"
    }
   ],
   "source": [
    "predictionsr01 = model_01_revised.predict(X_test).argmax(axis=1) # Get the class with the highest probability\n",
    "actual_labelsr01 = y_test.argmax(axis=1)\n",
    "conf_matrixr01 = confusion_matrix(actual_labelsr01, predictionsr01)\n",
    "conf_matrixr01"
   ]
  },
  {
   "cell_type": "code",
   "execution_count": 78,
   "metadata": {},
   "outputs": [
    {
     "name": "stdout",
     "output_type": "stream",
     "text": [
      "\u001b[1m132/132\u001b[0m \u001b[32m━━━━━━━━━━━━━━━━━━━━\u001b[0m\u001b[37m\u001b[0m \u001b[1m0s\u001b[0m 1ms/step\n"
     ]
    }
   ],
   "source": [
    "y_probabilities_r1 = model_01_revised.predict(X_test).ravel()"
   ]
  },
  {
   "cell_type": "code",
   "execution_count": 79,
   "metadata": {},
   "outputs": [
    {
     "name": "stdout",
     "output_type": "stream",
     "text": [
      "\u001b[1m132/132\u001b[0m \u001b[32m━━━━━━━━━━━━━━━━━━━━\u001b[0m\u001b[37m\u001b[0m \u001b[1m0s\u001b[0m 1ms/step\n"
     ]
    }
   ],
   "source": [
    "fpr, tpr, _ = roc_curve(y_test.ravel(), model_01_revised.predict(X_test).ravel())\n",
    "roc_auc = auc(fpr, tpr)"
   ]
  },
  {
   "cell_type": "code",
   "execution_count": 80,
   "metadata": {},
   "outputs": [
    {
     "data": {
      "image/png": "[encoded data removed]",
      "text/plain": [
       "<Figure size 700x500 with 1 Axes>"
      ]
     },
     "metadata": {},
     "output_type": "display_data"
    }
   ],
   "source": [
    "plt.figure(figsize=(7, 5))\n",
    "plt.plot(fpr, tpr, color=\"blue\", label=f\"AUC = {roc_auc:.4f}\")\n",
    "plt.plot([0, 1], [0, 1], \"--\", color=\"gray\")  \n",
    "plt.xlabel(\"False Positive Rate\")\n",
    "plt.ylabel(\"True Positive Rate\")\n",
    "plt.title(\"ROC Curve - Revised with Hyperparameters Model 01\")\n",
    "plt.legend()\n",
    "plt.show()\n",
    "\n"
   ]
  },
  {
   "cell_type": "code",
   "execution_count": 81,
   "metadata": {},
   "outputs": [
    {
     "name": "stdout",
     "output_type": "stream",
     "text": [
      "\n",
      "       Classification Report - Model 01:\n",
      "\n",
      "              precision    recall  f1-score   support\n",
      "\n",
      "           0       0.95      0.95      0.95       413\n",
      "           1       0.93      0.97      0.95       468\n",
      "           2       0.91      0.87      0.89       418\n",
      "           3       0.87      0.89      0.88       435\n",
      "           4       0.90      0.90      0.90       407\n",
      "           5       0.87      0.82      0.85       380\n",
      "           6       0.90      0.96      0.93       414\n",
      "           7       0.93      0.93      0.93       440\n",
      "           8       0.90      0.84      0.87       406\n",
      "           9       0.87      0.88      0.88       419\n",
      "\n",
      "    accuracy                           0.90      4200\n",
      "   macro avg       0.90      0.90      0.90      4200\n",
      "weighted avg       0.90      0.90      0.90      4200\n",
      "\n"
     ]
    }
   ],
   "source": [
    "print(\"\\n       Classification Report - Model 01:\\n\")\n",
    "print(classification_report(actual_labelsr01, predictionsr01))"
   ]
  },
  {
   "cell_type": "markdown",
   "metadata": {},
   "source": [
    "Model 02 - 2 Layers, 20 Neurons per Layer"
   ]
  },
  {
   "cell_type": "code",
   "execution_count": 82,
   "metadata": {},
   "outputs": [],
   "source": [
    "test_loss_r02, test_accuracy_r02 = revisedmodel_02.evaluate(X_test, y_test, verbose=0)"
   ]
  },
  {
   "cell_type": "code",
   "execution_count": 83,
   "metadata": {},
   "outputs": [
    {
     "name": "stdout",
     "output_type": "stream",
     "text": [
      "\n",
      " Revised Model 02 - Test Loss: 0.5418\n",
      " Revised Model 02 - Test Accuracy: 0.8836\n"
     ]
    }
   ],
   "source": [
    "print(f\"\\n Revised Model 02 - Test Loss: {test_loss_r02:.4f}\")\n",
    "print(f\" Revised Model 02 - Test Accuracy: {test_accuracy_r02:.4f}\")"
   ]
  },
  {
   "cell_type": "code",
   "execution_count": 84,
   "metadata": {},
   "outputs": [
    {
     "name": "stdout",
     "output_type": "stream",
     "text": [
      "\u001b[1m132/132\u001b[0m \u001b[32m━━━━━━━━━━━━━━━━━━━━\u001b[0m\u001b[37m\u001b[0m \u001b[1m0s\u001b[0m 2ms/step\n"
     ]
    }
   ],
   "source": [
    "predictions_r02 = revisedmodel_02.predict(X_test).argmax(axis=1)\n",
    "actual_labels_r02 = y_test.argmax(axis=1)"
   ]
  },
  {
   "cell_type": "code",
   "execution_count": 85,
   "metadata": {},
   "outputs": [],
   "source": [
    "conf_matrix_r02 = confusion_matrix(actual_labels_r02, predictions_r02)\n"
   ]
  },
  {
   "cell_type": "code",
   "execution_count": 86,
   "metadata": {},
   "outputs": [
    {
     "name": "stdout",
     "output_type": "stream",
     "text": [
      "\n",
      "Confusion Matrix for Revised Model 02:\n",
      "\n",
      "[[380   1   2   1   1   6  19   1   1   1]\n",
      " [  0 449   1   6   0   2   5   0   5   0]\n",
      " [  2   1 334  22   7   3   8   5  34   2]\n",
      " [  0   3   8 397   1   6   4   4   6   6]\n",
      " [  1   7   3   0 364   1   4   2   4  21]\n",
      " [  6  16   4  32   6 279  16   1  13   7]\n",
      " [  1   4   7   0   1   5 396   0   0   0]\n",
      " [  1   0   5   2   6   0   1 409   1  15]\n",
      " [  3   8   4  22   1  13   4   1 340  10]\n",
      " [  0   2   4   6  17   1   0  22   4 363]]\n"
     ]
    }
   ],
   "source": [
    "print(\"\\nConfusion Matrix for Revised Model 02:\\n\")\n",
    "print(conf_matrix_r02)\n"
   ]
  },
  {
   "cell_type": "code",
   "execution_count": 87,
   "metadata": {},
   "outputs": [
    {
     "name": "stdout",
     "output_type": "stream",
     "text": [
      "\u001b[1m132/132\u001b[0m \u001b[32m━━━━━━━━━━━━━━━━━━━━\u001b[0m\u001b[37m\u001b[0m \u001b[1m0s\u001b[0m 1ms/step\n"
     ]
    }
   ],
   "source": [
    "y_probabilities_r02 = revisedmodel_02.predict(X_test).ravel()"
   ]
  },
  {
   "cell_type": "code",
   "execution_count": 88,
   "metadata": {},
   "outputs": [],
   "source": [
    "fpr_02, tpr_02, _ = roc_curve(y_test.ravel(), y_probabilities_r02)\n",
    "roc_auc_02 = auc(fpr_02, tpr_02)"
   ]
  },
  {
   "cell_type": "code",
   "execution_count": 89,
   "metadata": {},
   "outputs": [
    {
     "data": {
      "image/png": "[encoded data removed]",
      "text/plain": [
       "<Figure size 700x500 with 1 Axes>"
      ]
     },
     "metadata": {},
     "output_type": "display_data"
    }
   ],
   "source": [
    "plt.figure(figsize=(7, 5))\n",
    "plt.plot(fpr_02, tpr_02, color=\"blue\", label=f\"Model 02 AUC = {roc_auc_02:.4f}\")\n",
    "plt.plot([0, 1], [0, 1], linestyle=\"--\", color=\"gray\")  \n",
    "plt.xlabel(\"False Positive Rate\")\n",
    "plt.ylabel(\"True Positive Rate\")\n",
    "plt.title(\"ROC Curve - Revised with Hyperparameters Model 02\")\n",
    "plt.legend()\n",
    "plt.show()"
   ]
  },
  {
   "cell_type": "code",
   "execution_count": 90,
   "metadata": {},
   "outputs": [
    {
     "name": "stdout",
     "output_type": "stream",
     "text": [
      "\n",
      "       Classification Report - Model 02:\n",
      "\n",
      "              precision    recall  f1-score   support\n",
      "\n",
      "           0       0.96      0.92      0.94       413\n",
      "           1       0.91      0.96      0.94       468\n",
      "           2       0.90      0.80      0.85       418\n",
      "           3       0.81      0.91      0.86       435\n",
      "           4       0.90      0.89      0.90       407\n",
      "           5       0.88      0.73      0.80       380\n",
      "           6       0.87      0.96      0.91       414\n",
      "           7       0.92      0.93      0.92       440\n",
      "           8       0.83      0.84      0.84       406\n",
      "           9       0.85      0.87      0.86       419\n",
      "\n",
      "    accuracy                           0.88      4200\n",
      "   macro avg       0.88      0.88      0.88      4200\n",
      "weighted avg       0.89      0.88      0.88      4200\n",
      "\n"
     ]
    }
   ],
   "source": [
    "print(\"\\n       Classification Report - Model 02:\\n\")\n",
    "print(classification_report(actual_labels_r02, predictions_r02))"
   ]
  },
  {
   "cell_type": "markdown",
   "metadata": {},
   "source": [
    "Model 03 -  5 Layers, 10 Neurons per Layer"
   ]
  },
  {
   "cell_type": "code",
   "execution_count": 91,
   "metadata": {},
   "outputs": [],
   "source": [
    "test_loss_r03, test_accuracy_r03 = revised_model_03.evaluate(X_test, y_test, verbose=0)"
   ]
  },
  {
   "cell_type": "code",
   "execution_count": 92,
   "metadata": {},
   "outputs": [
    {
     "name": "stdout",
     "output_type": "stream",
     "text": [
      "\n",
      "Model 03 - Test Loss: 1.6784\n",
      "Model 03 - Test Accuracy: 0.4336\n"
     ]
    }
   ],
   "source": [
    "print(f\"\\nModel 03 - Test Loss: {test_loss_r03:.4f}\")\n",
    "print(f\"Model 03 - Test Accuracy: {test_accuracy_r03:.4f}\")"
   ]
  },
  {
   "cell_type": "code",
   "execution_count": 93,
   "metadata": {},
   "outputs": [
    {
     "name": "stdout",
     "output_type": "stream",
     "text": [
      "\u001b[1m132/132\u001b[0m \u001b[32m━━━━━━━━━━━━━━━━━━━━\u001b[0m\u001b[37m\u001b[0m \u001b[1m0s\u001b[0m 2ms/step\n"
     ]
    }
   ],
   "source": [
    "predictions_r03 = revised_model_03.predict(X_test).argmax(axis=1)"
   ]
  },
  {
   "cell_type": "code",
   "execution_count": 94,
   "metadata": {},
   "outputs": [],
   "source": [
    "actual_labels_r03 = y_test.argmax(axis=1)"
   ]
  },
  {
   "cell_type": "code",
   "execution_count": 95,
   "metadata": {},
   "outputs": [],
   "source": [
    "conf_matrix_r03 = confusion_matrix(actual_labels_r03, predictions_r03)"
   ]
  },
  {
   "cell_type": "code",
   "execution_count": 96,
   "metadata": {},
   "outputs": [
    {
     "data": {
      "text/plain": [
       "array([[374,   1,   0,   0,   0,   0,  14,  22,   2,   0],\n",
       "       [  1, 457,   1,   0,   0,   0,   0,   2,   3,   4],\n",
       "       [ 18, 103, 106,   0,   1,   2, 107,  14,  61,   6],\n",
       "       [ 34,  91,  41,   1,   0,   9,  39,  32, 151,  37],\n",
       "       [ 25, 131,  19,   2,   0,  19,  26,  51, 102,  32],\n",
       "       [ 67,  26,  10,   0,   1,   9,  23, 127,  83,  34],\n",
       "       [ 38,  55,  59,   1,   2,   1, 244,   5,   8,   1],\n",
       "       [ 18,  17,   0,   0,   1,   1,   2, 338,  42,  21],\n",
       "       [  5,  78,   4,   0,   1,   1,   8,  35, 220,  54],\n",
       "       [ 24,  43,   0,   0,   1,   4,   1, 185,  89,  72]])"
      ]
     },
     "execution_count": 96,
     "metadata": {},
     "output_type": "execute_result"
    }
   ],
   "source": [
    "conf_matrix_r03"
   ]
  },
  {
   "cell_type": "code",
   "execution_count": 97,
   "metadata": {},
   "outputs": [
    {
     "name": "stdout",
     "output_type": "stream",
     "text": [
      "\n",
      "       Classification Report - Model 03:\n",
      "\n",
      "              precision    recall  f1-score   support\n",
      "\n",
      "           0       0.62      0.91      0.74       413\n",
      "           1       0.46      0.98      0.62       468\n",
      "           2       0.44      0.25      0.32       418\n",
      "           3       0.25      0.00      0.00       435\n",
      "           4       0.00      0.00      0.00       407\n",
      "           5       0.20      0.02      0.04       380\n",
      "           6       0.53      0.59      0.56       414\n",
      "           7       0.42      0.77      0.54       440\n",
      "           8       0.29      0.54      0.38       406\n",
      "           9       0.28      0.17      0.21       419\n",
      "\n",
      "    accuracy                           0.43      4200\n",
      "   macro avg       0.35      0.42      0.34      4200\n",
      "weighted avg       0.35      0.43      0.35      4200\n",
      "\n"
     ]
    }
   ],
   "source": [
    "print(\"\\n       Classification Report - Model 03:\\n\")\n",
    "print(classification_report(actual_labels_r03, predictions_r03))"
   ]
  },
  {
   "cell_type": "code",
   "execution_count": 98,
   "metadata": {},
   "outputs": [
    {
     "name": "stdout",
     "output_type": "stream",
     "text": [
      "\u001b[1m132/132\u001b[0m \u001b[32m━━━━━━━━━━━━━━━━━━━━\u001b[0m\u001b[37m\u001b[0m \u001b[1m0s\u001b[0m 1ms/step\n"
     ]
    }
   ],
   "source": [
    "y_probabilities_03 = revised_model_03.predict(X_test).ravel()"
   ]
  },
  {
   "cell_type": "code",
   "execution_count": 99,
   "metadata": {},
   "outputs": [],
   "source": [
    "fpr_03, tpr_03, _ = roc_curve(y_test.ravel(), y_probabilities_03)\n",
    "roc_auc_03 = auc(fpr_03, tpr_03)"
   ]
  },
  {
   "cell_type": "code",
   "execution_count": 100,
   "metadata": {},
   "outputs": [
    {
     "data": {
      "image/png": "[encoded data removed]",
      "text/plain": [
       "<Figure size 700x500 with 1 Axes>"
      ]
     },
     "metadata": {},
     "output_type": "display_data"
    }
   ],
   "source": [
    "plt.figure(figsize=(7, 5))\n",
    "plt.plot(fpr_03, tpr_03, color=\"blue\", label=f\"Model 03 AUC = {roc_auc_03:.4f}\")\n",
    "plt.plot([0, 1], [0, 1], linestyle=\"--\", color=\"gray\")  \n",
    "plt.xlabel(\"False Positive Rate\")\n",
    "plt.ylabel(\"True Positive Rate\")\n",
    "plt.title(\"ROC Curve - Revised with Hyperparameters Model 03\")\n",
    "plt.legend()\n",
    "plt.show()"
   ]
  },
  {
   "cell_type": "markdown",
   "metadata": {},
   "source": [
    "Model 04 - 5 Layers, 20 Neurons per Layer"
   ]
  },
  {
   "cell_type": "code",
   "execution_count": 101,
   "metadata": {},
   "outputs": [],
   "source": [
    "test_loss_r04, test_accuracy_r04 = revised_model_04.evaluate(X_test, y_test, verbose=0)"
   ]
  },
  {
   "cell_type": "code",
   "execution_count": 102,
   "metadata": {},
   "outputs": [
    {
     "name": "stdout",
     "output_type": "stream",
     "text": [
      "\n",
      "Model 04 - Test Loss: 1660.2379\n",
      "Model 04 - Test Accuracy: 0.2295\n"
     ]
    }
   ],
   "source": [
    "print(f\"\\nModel 04 - Test Loss: {test_loss_r04:.4f}\")\n",
    "print(f\"Model 04 - Test Accuracy: {test_accuracy_r04:.4f}\")"
   ]
  },
  {
   "cell_type": "code",
   "execution_count": 103,
   "metadata": {},
   "outputs": [
    {
     "name": "stdout",
     "output_type": "stream",
     "text": [
      "\u001b[1m132/132\u001b[0m \u001b[32m━━━━━━━━━━━━━━━━━━━━\u001b[0m\u001b[37m\u001b[0m \u001b[1m0s\u001b[0m 2ms/step\n"
     ]
    }
   ],
   "source": [
    "predictions_r04 = revised_model_04.predict(X_test).argmax(axis=1)\n",
    "actual_labels_r04 = y_test.argmax(axis=1)"
   ]
  },
  {
   "cell_type": "code",
   "execution_count": 104,
   "metadata": {},
   "outputs": [],
   "source": [
    "conf_matrix_r04 = confusion_matrix(actual_labels_r04, predictions_r04)"
   ]
  },
  {
   "cell_type": "code",
   "execution_count": 105,
   "metadata": {},
   "outputs": [
    {
     "name": "stdout",
     "output_type": "stream",
     "text": [
      "\n",
      "Confusion Matrix - Model 04:\n",
      " [[  0   0  17  27   0   0  40 227 102   0]\n",
      " [  0 194   2 253   0   0   0   0  19   0]\n",
      " [  0   2 292   6   0   0   0   0 118   0]\n",
      " [  0   2 107 101   1   0   6  14 204   0]\n",
      " [  0   0  18 130   7   0  11  21 220   0]\n",
      " [  0   1  43 138   2   0   4  35 157   0]\n",
      " [  0   2  81 128   1   0  10  74 118   0]\n",
      " [  0   0  96  13   1   0   6  39 285   0]\n",
      " [  0   0  65  20   0   0   0   0 321   0]\n",
      " [  0   0  19 140   5   0   2  23 230   0]]\n"
     ]
    }
   ],
   "source": [
    "print(f\"\\nConfusion Matrix - Model 04:\\n\", conf_matrix_r04)"
   ]
  },
  {
   "cell_type": "code",
   "execution_count": 106,
   "metadata": {},
   "outputs": [
    {
     "name": "stdout",
     "output_type": "stream",
     "text": [
      "\n",
      "Classification Report - Model 04:\n",
      "\n",
      "              precision    recall  f1-score   support\n",
      "\n",
      "           0       0.00      0.00      0.00       413\n",
      "           1       0.97      0.41      0.58       468\n",
      "           2       0.39      0.70      0.50       418\n",
      "           3       0.11      0.23      0.15       435\n",
      "           4       0.41      0.02      0.03       407\n",
      "           5       0.00      0.00      0.00       380\n",
      "           6       0.13      0.02      0.04       414\n",
      "           7       0.09      0.09      0.09       440\n",
      "           8       0.18      0.79      0.29       406\n",
      "           9       0.00      0.00      0.00       419\n",
      "\n",
      "    accuracy                           0.23      4200\n",
      "   macro avg       0.23      0.23      0.17      4200\n",
      "weighted avg       0.24      0.23      0.17      4200\n",
      "\n"
     ]
    },
    {
     "name": "stderr",
     "output_type": "stream",
     "text": [
      "/opt/homebrew/Caskroom/miniforge/base/envs/tf-mac/lib/python3.9/site-packages/sklearn/metrics/_classification.py:1565: UndefinedMetricWarning: Precision is ill-defined and being set to 0.0 in labels with no predicted samples. Use `zero_division` parameter to control this behavior.\n",
      "  _warn_prf(average, modifier, f\"{metric.capitalize()} is\", len(result))\n",
      "/opt/homebrew/Caskroom/miniforge/base/envs/tf-mac/lib/python3.9/site-packages/sklearn/metrics/_classification.py:1565: UndefinedMetricWarning: Precision is ill-defined and being set to 0.0 in labels with no predicted samples. Use `zero_division` parameter to control this behavior.\n",
      "  _warn_prf(average, modifier, f\"{metric.capitalize()} is\", len(result))\n",
      "/opt/homebrew/Caskroom/miniforge/base/envs/tf-mac/lib/python3.9/site-packages/sklearn/metrics/_classification.py:1565: UndefinedMetricWarning: Precision is ill-defined and being set to 0.0 in labels with no predicted samples. Use `zero_division` parameter to control this behavior.\n",
      "  _warn_prf(average, modifier, f\"{metric.capitalize()} is\", len(result))\n"
     ]
    }
   ],
   "source": [
    "print(\"\\nClassification Report - Model 04:\\n\")\n",
    "print(classification_report(actual_labels_r04, predictions_r04))"
   ]
  },
  {
   "cell_type": "code",
   "execution_count": 107,
   "metadata": {},
   "outputs": [
    {
     "name": "stdout",
     "output_type": "stream",
     "text": [
      "\u001b[1m132/132\u001b[0m \u001b[32m━━━━━━━━━━━━━━━━━━━━\u001b[0m\u001b[37m\u001b[0m \u001b[1m0s\u001b[0m 2ms/step\n"
     ]
    }
   ],
   "source": [
    "y_probabilities_04 = revised_model_04.predict(X_test).ravel()"
   ]
  },
  {
   "cell_type": "code",
   "execution_count": 108,
   "metadata": {},
   "outputs": [],
   "source": [
    "fpr_04, tpr_04, _ = roc_curve(y_test.ravel(), y_probabilities_04)\n",
    "roc_auc_04 = auc(fpr_04, tpr_04)"
   ]
  },
  {
   "cell_type": "code",
   "execution_count": 109,
   "metadata": {},
   "outputs": [
    {
     "data": {
      "image/png": "[encoded data removed]",
      "text/plain": [
       "<Figure size 700x500 with 1 Axes>"
      ]
     },
     "metadata": {},
     "output_type": "display_data"
    }
   ],
   "source": [
    "plt.figure(figsize=(7, 5))\n",
    "plt.plot(fpr_04, tpr_04, color=\"blue\", label=f\"Model 04 AUC = {roc_auc_04:.4f}\")\n",
    "plt.plot([0, 1], [0, 1], linestyle=\"--\", color=\"gray\")  \n",
    "plt.xlabel(\"False Positive Rate\")\n",
    "plt.ylabel(\"True Positive Rate\")\n",
    "plt.title(\"ROC Curve - Revised with Hyperparameters Model 04\")\n",
    "plt.legend()\n",
    "plt.show()"
   ]
  },
  {
   "cell_type": "markdown",
   "metadata": {},
   "source": [
    "### PART 16 Model evaluation "
   ]
  },
  {
   "cell_type": "code",
   "execution_count": 110,
   "metadata": {},
   "outputs": [
    {
     "name": "stdout",
     "output_type": "stream",
     "text": [
      " Model Performance Summary:  \n",
      "               Model  Test Accuracy  AUC Score  Training Time (s)         Loss\n",
      "0  Model 01 (2L-10N)       0.903333   0.992504         191.998476     0.339371\n",
      "1  Model 02 (2L-20N)       0.883571   0.988775         211.467213     0.541799\n",
      "2  Model 03 (5L-10N)       0.433571   0.827469          84.689987     1.678385\n",
      "3  Model 04 (5L-20N)       0.229524   0.576648         160.660718  1660.237915\n"
     ]
    }
   ],
   "source": [
    "model_summary = pd.DataFrame({\n",
    "    \"Model\": [\"Model 01 (2L-10N)\", \"Model 02 (2L-20N)\", \"Model 03 (5L-10N)\", \"Model 04 (5L-20N)\"],\n",
    "    \"Test Accuracy\": [test_accuracyr01, test_accuracy_r02, test_accuracy_r03, test_accuracy_r04],\n",
    "    \"AUC Score\": [roc_auc, roc_auc_02, roc_auc_03, roc_auc_04],\n",
    "    \"Training Time (s)\": [training_time_01_revised, training_time_2, training_time_03, training_time_04],\n",
    "    \"Loss\": [test_lossr01, test_loss_r02, test_loss_r03, test_loss_r04]\n",
    "})\n",
    "\n",
    "print(\" Model Performance Summary:  \")\n",
    "print(model_summary)\n"
   ]
  },
  {
   "cell_type": "code",
   "execution_count": 111,
   "metadata": {},
   "outputs": [
    {
     "name": "stdout",
     "output_type": "stream",
     "text": [
      "\n",
      "The best Model from the research is Model 01 (2L-10N) with an Accuracy of 0.9033\n"
     ]
    }
   ],
   "source": [
    "best_model = model_summary.loc[model_summary[\"Test Accuracy\"].idxmax()]\n",
    "print(f\"\\nThe best Model from the research is {best_model['Model']} with an Accuracy of {best_model['Test Accuracy']:.4f}\")\n"
   ]
  },
  {
   "cell_type": "markdown",
   "metadata": {},
   "source": [
    "Misclassified Digits"
   ]
  },
  {
   "cell_type": "markdown",
   "metadata": {},
   "source": [
    "Revised model 01"
   ]
  },
  {
   "cell_type": "code",
   "execution_count": 112,
   "metadata": {},
   "outputs": [
    {
     "name": "stdout",
     "output_type": "stream",
     "text": [
      "The most misclassified digit in Model 01 is 5\n"
     ]
    }
   ],
   "source": [
    "misclassified_model01 = conf_matrixr01.sum(axis=1) - np.diag(conf_matrixr01)  \n",
    "most_misclassified_digit_model1 = np.argmax(misclassified_model01)\n",
    "print(f\"The most misclassified digit in Model 01 is {most_misclassified_digit_model1}\")\n"
   ]
  },
  {
   "cell_type": "markdown",
   "metadata": {},
   "source": [
    "Revised Model 2"
   ]
  },
  {
   "cell_type": "code",
   "execution_count": 113,
   "metadata": {},
   "outputs": [
    {
     "name": "stdout",
     "output_type": "stream",
     "text": [
      "The most misclassified digit in Model 02 is 5.\n"
     ]
    }
   ],
   "source": [
    "misclassified_model02 = conf_matrix_r02.sum(axis=1) - np.diag(conf_matrix_r02)  \n",
    "most_misclassified_digit_02 = np.argmax(misclassified_model02)\n",
    "print(f\"The most misclassified digit in Model 02 is {most_misclassified_digit_02}.\")"
   ]
  },
  {
   "cell_type": "markdown",
   "metadata": {},
   "source": [
    "Revised Model 03"
   ]
  },
  {
   "cell_type": "code",
   "execution_count": 114,
   "metadata": {},
   "outputs": [
    {
     "name": "stdout",
     "output_type": "stream",
     "text": [
      "The most misclassified digit in Model 03 is 3.\n"
     ]
    }
   ],
   "source": [
    "misclassified_model03 = conf_matrix_r03.sum(axis=1) - np.diag(conf_matrix_r03)  \n",
    "most_misclassified_digit_03 = np.argmax(misclassified_model03)\n",
    "print(f\"The most misclassified digit in Model 03 is {most_misclassified_digit_03}.\")"
   ]
  },
  {
   "cell_type": "markdown",
   "metadata": {},
   "source": [
    "Revised Model 04"
   ]
  },
  {
   "cell_type": "code",
   "execution_count": 115,
   "metadata": {},
   "outputs": [
    {
     "name": "stdout",
     "output_type": "stream",
     "text": [
      "The most misclassified digit in Model 04 is 9.\n"
     ]
    }
   ],
   "source": [
    "misclassified_model04 = conf_matrix_r04.sum(axis=1) - np.diag(conf_matrix_r04)  \n",
    "most_misclassified_digit_04 = np.argmax(misclassified_model04)\n",
    "print(f\"The most misclassified digit in Model 04 is {most_misclassified_digit_04}.\")"
   ]
  },
  {
   "cell_type": "markdown",
   "metadata": {},
   "source": [
    "Kaggle Submissions "
   ]
  },
  {
   "cell_type": "markdown",
   "metadata": {},
   "source": [
    "Model 01"
   ]
  },
  {
   "cell_type": "code",
   "execution_count": 123,
   "metadata": {},
   "outputs": [],
   "source": [
    "assert test_digit_recognizer_dataframe.shape == (28000, 784), f\"Test data shape incorrect: {test_digit_recognizer_dataframe.shape}\""
   ]
  },
  {
   "cell_type": "code",
   "execution_count": 125,
   "metadata": {},
   "outputs": [],
   "source": [
    "X_test_kaggle = test_digit_recognizer_dataframe.values / 255.0  "
   ]
  },
  {
   "cell_type": "code",
   "execution_count": 129,
   "metadata": {},
   "outputs": [
    {
     "name": "stdout",
     "output_type": "stream",
     "text": [
      "\u001b[1m875/875\u001b[0m \u001b[32m━━━━━━━━━━━━━━━━━━━━\u001b[0m\u001b[37m\u001b[0m \u001b[1m1s\u001b[0m 1ms/step\n"
     ]
    }
   ],
   "source": [
    "predictionsr01 = model_01_revised.predict(X_test_kaggle).argmax(axis=1)"
   ]
  },
  {
   "cell_type": "code",
   "execution_count": 130,
   "metadata": {},
   "outputs": [],
   "source": [
    "assert predictionsr01.shape == (28000,), f\"Predictions shape incorrect: {predictionsr01.shape}\""
   ]
  },
  {
   "cell_type": "code",
   "execution_count": 131,
   "metadata": {},
   "outputs": [],
   "source": [
    "submission = pd.DataFrame({\"ImageId\": np.arange(1, len(predictionsr01) + 1), \"Label\": predictionsr01})"
   ]
  },
  {
   "cell_type": "code",
   "execution_count": 133,
   "metadata": {},
   "outputs": [],
   "source": [
    "submission.to_csv(\"digit_recognizer_submission_model01.csv\", index=False)"
   ]
  },
  {
   "cell_type": "markdown",
   "metadata": {},
   "source": [
    "Model 02"
   ]
  },
  {
   "cell_type": "code",
   "execution_count": 139,
   "metadata": {},
   "outputs": [],
   "source": [
    "X_test_kaggle = test_digit_recognizer_dataframe.values / 255.0 "
   ]
  },
  {
   "cell_type": "code",
   "execution_count": 141,
   "metadata": {},
   "outputs": [
    {
     "name": "stdout",
     "output_type": "stream",
     "text": [
      "Test Dataset Shape: (28000, 784)\n"
     ]
    }
   ],
   "source": [
    "print(\"Test Dataset Shape:\", X_test_kaggle.shape)"
   ]
  },
  {
   "cell_type": "code",
   "execution_count": 145,
   "metadata": {},
   "outputs": [
    {
     "name": "stdout",
     "output_type": "stream",
     "text": [
      "\u001b[1m875/875\u001b[0m \u001b[32m━━━━━━━━━━━━━━━━━━━━\u001b[0m\u001b[37m\u001b[0m \u001b[1m1s\u001b[0m 1ms/step\n"
     ]
    }
   ],
   "source": [
    "predictions_r02 = revisedmodel_02.predict(X_test_kaggle).argmax(axis=1)"
   ]
  },
  {
   "cell_type": "code",
   "execution_count": 146,
   "metadata": {},
   "outputs": [],
   "source": [
    "assert predictions_r02.shape == (28000,), f\"Predictions shape incorrect: {predictions_r02.shape}\""
   ]
  },
  {
   "cell_type": "code",
   "execution_count": 147,
   "metadata": {},
   "outputs": [],
   "source": [
    "submission = pd.DataFrame({\"ImageId\": np.arange(1, len(predictions_r02) + 1), \"Label\": predictions_r02})"
   ]
  },
  {
   "cell_type": "code",
   "execution_count": 149,
   "metadata": {},
   "outputs": [],
   "source": [
    "submission.to_csv(\"digit_recognizer_submission_model02.csv\", index=False)"
   ]
  },
  {
   "cell_type": "markdown",
   "metadata": {},
   "source": [
    "Model 03"
   ]
  },
  {
   "cell_type": "code",
   "execution_count": 154,
   "metadata": {},
   "outputs": [
    {
     "name": "stdout",
     "output_type": "stream",
     "text": [
      "\u001b[1m875/875\u001b[0m \u001b[32m━━━━━━━━━━━━━━━━━━━━\u001b[0m\u001b[37m\u001b[0m \u001b[1m1s\u001b[0m 1ms/step\n"
     ]
    }
   ],
   "source": [
    "predictions_r03 = revised_model_03.predict(X_test_kaggle).argmax(axis=1)"
   ]
  },
  {
   "cell_type": "code",
   "execution_count": 155,
   "metadata": {},
   "outputs": [],
   "source": [
    "assert predictions_r03.shape == (28000,), f\"Predictions shape incorrect: {predictions_r03.shape}\""
   ]
  },
  {
   "cell_type": "code",
   "execution_count": 157,
   "metadata": {},
   "outputs": [],
   "source": [
    "submission = pd.DataFrame({\"ImageId\": np.arange(1, len(predictions_r03) + 1), \"Label\": predictions_r03})"
   ]
  },
  {
   "cell_type": "code",
   "execution_count": 158,
   "metadata": {},
   "outputs": [],
   "source": [
    "submission.to_csv(\"digit_recognizer_submission_model03.csv\", index=False)"
   ]
  },
  {
   "cell_type": "markdown",
   "metadata": {},
   "source": [
    "Model 04"
   ]
  },
  {
   "cell_type": "code",
   "execution_count": 159,
   "metadata": {},
   "outputs": [
    {
     "name": "stdout",
     "output_type": "stream",
     "text": [
      "\u001b[1m875/875\u001b[0m \u001b[32m━━━━━━━━━━━━━━━━━━━━\u001b[0m\u001b[37m\u001b[0m \u001b[1m1s\u001b[0m 1ms/step\n"
     ]
    }
   ],
   "source": [
    "predictions_r04 = revised_model_04.predict(X_test_kaggle).argmax(axis=1)\n"
   ]
  },
  {
   "cell_type": "code",
   "execution_count": 160,
   "metadata": {},
   "outputs": [],
   "source": [
    "assert predictions_r04.shape == (28000,), f\"Predictions shape incorrect: {predictions_r04.shape}\""
   ]
  },
  {
   "cell_type": "code",
   "execution_count": 161,
   "metadata": {},
   "outputs": [],
   "source": [
    "submission.to_csv(\"digit_recognizer_submission_model04.csv\", index=False)"
   ]
  },
  {
   "cell_type": "markdown",
   "metadata": {},
   "source": [
    "### PART 17 Conclusion\n"
   ]
  },
  {
   "cell_type": "markdown",
   "metadata": {},
   "source": [
    "##### This research was a great way to understand how different neural network models handle handwriting recognition. The best-performing model was Model 01, which had 2 layers and 10 neurons per layer, achieving an accuracy of 90.93% after tuning the hyperparameters. The second revised model with hyperparameters had a slightly lower accuracy of 0.888810, which showed that increasing the number of neurons did not necessarily improve performance.\n",
    "\n",
    "##### The third revised model had 5 layers and 10 neurons per layer, and the fourth model had 5 layers and 20 neurons per layer. Both had the lowest scores of about 0.324762 (Model 03) and 0.220238 (Model 04). These two models took the longest to train as they had issues with classification, and due to overfitting, they slowed down the procedure. This overall shows that adding more layers can impact the model’s performance.\n",
    "\n",
    "##### The most misclassified digits varied across each model, showing that with certain numbers, it was difficult to distinguish them correctly, likely due to similar pixel structures or overlapping features. For the future, it might be a good idea to focus on having better hyperparameters, experimenting with activation functions, or incorporating generalization functions such as dropouts. To conclude, this research showed the importance of learning how to pick hyperparameters wisely, as selecting too many or the wrong ones can cause issues with performance and efficiency.\n"
   ]
  },
  {
   "cell_type": "markdown",
   "metadata": {},
   "source": [
    "### PART 18 Management Question\n",
    "##### The goal of this machine learning research was to be able to develop an eﬀicient model that will recognize different and unique handwritten digits. This is useful in the outside world to be able to understand when in work scenario one is not able to understand a specific numeric.  The specific research is focused on making digit recognition more accurate using neural networks and their hyperparameters to improve performance. In daily life, this will be useful in scenarios such as bank forms or medical forms, where this model can correctly identify handwritten numbers. This is important and will make the process of understanding handwritten forms easier."
   ]
  },
  {
   "cell_type": "markdown",
   "metadata": {},
   "source": [
    "### PART 20 References"
   ]
  },
  {
   "cell_type": "markdown",
   "metadata": {},
   "source": [
    "\n",
    "- ChatGPT. *Accessed February 27, 2025.* [https://chatgpt.com/](https://chatgpt.com/).\n",
    "- Google. \"Classification: ROC and AUC | Machine Learning.\" *Accessed February 28, 2025.*  \n",
    "  [https://developers.google.com/machine-learning/crash-course/classification/roc-and-auc](https://developers.google.com/machine-learning/crash-course/classification/roc-and-auc).\n",
    "- scikit-learn. \"Classification_report.\" *Accessed March 28, 2025.*  \n",
    "  [https://scikit-learn.org/stable/modules/generated/sklearn.metrics.classification_report.html](https://scikit-learn.org/stable/modules/generated/sklearn.metrics.classification_report.html).\n",
    "- scikit-learn. \"Confusion_matrix.\" *Accessed March 1, 2025.*  \n",
    "  [https://scikit-learn.org/stable/modules/generated/sklearn.metrics.confusion_matrix.html](https://scikit-learn.org/stable/modules/generated/sklearn.metrics.confusion_matrix.html).\n",
    "- Kaggle. \"Digit Recognizer.\" *Accessed February 26, 2025.*  \n",
    "  [https://www.kaggle.com/competitions/digit-recognizer](https://www.kaggle.com/competitions/digit-recognizer).\n",
    "- GeeksforGeeks. \"Implementing Neural Networks Using TensorFlow.\" *Accessed February 28, 2022.*  \n",
    "  [https://www.geeksforgeeks.org/implementing-neural-networks-using-tensorflow/](https://www.geeksforgeeks.org/implementing-neural-networks-using-tensorflow/).\n",
    "- scikit-learn \"MinMaxScaler.\" *Accessed February 26, 2025.*  \n",
    "  [https://scikit-learn.org/stable/modules/generated/sklearn.preprocessing.MinMaxScaler.html](https://scikit-learn.org/stable/modules/generated/sklearn.preprocessing.MinMaxScaler.html).\n",
    "- Radhakrishnan, Pranoy. \"What Are Hyperparameters? And How to Tune the Hyperparameters in a Deep Neural Network?\" *Medium,* October 18, 2017.  \n",
    "  [https://medium.com/towards-data-science/what-are-hyperparameters-and-how-to-tune-the-hyperparameters-in-a-deep-neural-network-d0604917584a](https://medium.com/towards-data-science/what-are-hyperparameters-and-how-to-tune-the-hyperparameters-in-a-deep-neural-network-d0604917584a).\n",
    "- TensorFlow. \"TensorFlow 2 Quickstart for Beginners.\" *Accessed February 27, 2025.*  \n",
    "  [https://www.tensorflow.org/tutorials/quickstart/beginner](https://www.tensorflow.org/tutorials/quickstart/beginner).\n",
    "- TensorFlow.\"tf.keras.preprocessing.image.ImageDataGenerator: TensorFlow v2.16.1.\" *Accessed February 27, 2025.*  \n",
    "  [https://www.tensorflow.org/api_docs/python/tf/keras/preprocessing/image/ImageDataGenerator](https://www.tensorflow.org/api_docs/python/tf/keras/preprocessing/image/ImageDataGenerator).\n"
   ]
  },
  {
   "cell_type": "markdown",
   "metadata": {},
   "source": []
  }
 ],
 "metadata": {
  "kernelspec": {
   "display_name": "tf-mac",
   "language": "python",
   "name": "python3"
  },
  "language_info": {
   "codemirror_mode": {
    "name": "ipython",
    "version": 3
   },
   "file_extension": ".py",
   "mimetype": "text/x-python",
   "name": "python",
   "nbconvert_exporter": "python",
   "pygments_lexer": "ipython3",
   "version": "3.9.7"
  }
 },
 "nbformat": 4,
 "nbformat_minor": 2
}
